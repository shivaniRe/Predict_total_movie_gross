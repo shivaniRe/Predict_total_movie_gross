{
 "cells": [
  {
   "cell_type": "code",
   "execution_count": 202,
   "metadata": {
    "collapsed": true
   },
   "outputs": [],
   "source": [
    "from bs4 import BeautifulSoup\n",
    "import requests\n",
    "from pprint import pprint\n",
    "from collections import defaultdict\n",
    "from sklearn.linear_model import LinearRegression, RidgeCV\n",
    "from sklearn.preprocessing import StandardScaler\n",
    "from sklearn.cross_validation import train_test_split, cross_val_score, cross_val_predict\n",
    "import numpy as np\n",
    "import matplotlib.pyplot as plt\n",
    "import statsmodels.formula.api as smf\n",
    "\n",
    "\n",
    "%matplotlib inline"
   ]
  },
  {
   "cell_type": "markdown",
   "metadata": {},
   "source": [
    "Scrape boxofficemojo.com for movie information using BeautifulSoup."
   ]
  },
  {
   "cell_type": "code",
   "execution_count": 203,
   "metadata": {
    "collapsed": false
   },
   "outputs": [],
   "source": [
    "\n",
    "\n",
    "base_url = 'http://www.boxofficemojo.com/movies/?id='\n",
    "slug = 'room2015.htm'\n",
    "\n",
    "url = 'http://www.boxofficemojo.com/genres/'\n",
    "\n",
    "def get_soup_object(html):\n",
    "    response = requests.get(html)\n",
    "    raw_html = response.text\n",
    "    return BeautifulSoup(raw_html)\n",
    "\n",
    "soup = get_soup_object(url)\n",
    "\n",
    "# print soup.prettify()"
   ]
  },
  {
   "cell_type": "markdown",
   "metadata": {},
   "source": [
    "Scrape the website's genre list to get the genre_name, genre_url, genre_gross and number of movies in that genre."
   ]
  },
  {
   "cell_type": "code",
   "execution_count": 204,
   "metadata": {
    "collapsed": false
   },
   "outputs": [
    {
     "name": "stdout",
     "output_type": "stream",
     "text": [
      "212 {u'Horse': ['./chart/?id=horse.htm', <td align=\"right\"><font size=\"2\">$120.3</font></td>, <td align=\"right\"><font size=\"2\">31</font></td>], u'Sports - Boxing': ['./chart/?id=boxing.htm', <td align=\"right\"><font size=\"2\">$127.9</font></td>, <td align=\"right\"><font size=\"2\">48</font></td>], u'Romantic Fantasy': ['./chart/?id=romanticfantasy.htm', <td align=\"right\"><font size=\"2\">$300.5</font></td>, <td align=\"right\"><font size=\"2\">51</font></td>], u'Thriller - Psycho / Stalker / Blank from Hell': ['./chart/?id=psychothriller.htm', <td align=\"right\"><font size=\"2\">$156.6</font></td>, <td align=\"right\"><font size=\"2\">38</font></td>], u'Comedy - Fat Suit': ['./chart/?id=fatsuit.htm', <td align=\"right\"><font size=\"2\">$219.2</font></td>, <td align=\"right\"><font size=\"2\">26</font></td>], u'Documentary - Nature': ['./chart/?id=naturedoc.htm', <td align=\"right\"><font size=\"2\">$77.4</font></td>, <td align=\"right\"><font size=\"2\">30</font></td>], u'Travelogue - New Orleans': ['./chart/?id=neworleans.htm', <td align=\"right\"><font size=\"2\">$164.6</font></td>, <td align=\"right\"><font size=\"2\">27</font></td>], u'Sundance 2014': ['./chart/?id=sundance2014.htm', <td align=\"right\"><font size=\"2\">$13.1</font></td>, <td align=\"right\"><font size=\"2\">38</font></td>], u'Adventure - Period': ['./chart/?id=adventureperiod.htm', <td align=\"right\"><font size=\"2\">$423.3</font></td>, <td align=\"right\"><font size=\"2\">76</font></td>], u'Sundance 2011': ['./chart/?id=sundance2011.htm', <td align=\"right\"><font size=\"2\">$24.8</font></td>, <td align=\"right\"><font size=\"2\">26</font></td>], u'Sports - Football': ['./chart/?id=football.htm', <td align=\"right\"><font size=\"2\">$256.0</font></td>, <td align=\"right\"><font size=\"2\">43</font></td>], u'Stand-Up Comedy Concert': ['./chart/?id=standup.htm', <td align=\"right\"><font size=\"2\">$50.5</font></td>, <td align=\"right\"><font size=\"2\">24</font></td>], u'Sundance 2012': ['./chart/?id=sundance2012.htm', <td align=\"right\"><font size=\"2\">$12.8</font></td>, <td align=\"right\"><font size=\"2\">28</font></td>], u'Reality TV': ['./chart/?id=realitytv.htm', <td align=\"right\"><font size=\"2\">$408.0</font></td>, <td align=\"right\"><font size=\"2\">23</font></td>], u'Dragon - Supporting Role': ['./chart/?id=dragonelements.htm', <td align=\"right\"><font size=\"2\">$381.0</font></td>, <td align=\"right\"><font size=\"2\">11</font></td>], u'Travelogue - Italy': ['./chart/?id=italy.htm', <td align=\"right\"><font size=\"2\">$81.3</font></td>, <td align=\"right\"><font size=\"2\">18</font></td>], u'Remake - British': ['./chart/?id=britishremake.htm', <td align=\"right\"><font size=\"2\">$106.1</font></td>, <td align=\"right\"><font size=\"2\">6</font></td>], u'Comedy - Spy': ['./chart/?id=spycomedy.htm', <td align=\"right\"><font size=\"2\">$368.1</font></td>, <td align=\"right\"><font size=\"2\">33</font></td>], u'TV Adaptation (Live Action)': ['./chart/?id=basedontv.htm', <td align=\"right\"><font size=\"2\">$257.7</font></td>, <td align=\"right\"><font size=\"2\">84</font></td>], u'Witch': ['./chart/?id=witch.htm', <td align=\"right\"><font size=\"2\">$140.5</font></td>, <td align=\"right\"><font size=\"2\">16</font></td>], u'Car Racing': ['./chart/?id=carracing.htm', <td align=\"right\"><font size=\"2\">$244.1</font></td>, <td align=\"right\"><font size=\"2\">35</font></td>], u'Animation - Sci-Fi': ['./chart/?id=scifianimation.htm', <td align=\"right\"><font size=\"2\">$223.8</font></td>, <td align=\"right\"><font size=\"2\">47</font></td>], u'Western': ['./chart/?id=western.htm', <td align=\"right\"><font size=\"2\">$184.2</font></td>, <td align=\"right\"><font size=\"2\">82</font></td>], u'Heist / Caper': ['./chart/?id=caper.htm', <td align=\"right\"><font size=\"2\">$292.6</font></td>, <td align=\"right\"><font size=\"2\">102</font></td>], u'Swashbuckler': ['./chart/?id=swashbuckler.htm', <td align=\"right\"><font size=\"2\">$423.3</font></td>, <td align=\"right\"><font size=\"2\">21</font></td>], u'Creature Feature': ['./chart/?id=creaturefeature.htm', <td align=\"right\"><font size=\"2\">$652.3</font></td>, <td align=\"right\"><font size=\"2\">76</font></td>], u'Romantic Comedy - Fantasy': ['./chart/?id=romcomfan.htm', <td align=\"right\"><font size=\"2\">$69.8</font></td>, <td align=\"right\"><font size=\"2\">24</font></td>], u'Taxi / Taxi Driver': ['./chart/?id=taxi.htm', <td align=\"right\"><font size=\"2\">$101.0</font></td>, <td align=\"right\"><font size=\"2\">12</font></td>], u'Horror Comedy': ['./chart/?id=horrorcomedy.htm', <td align=\"right\"><font size=\"2\">$242.2</font></td>, <td align=\"right\"><font size=\"2\">116</font></td>], u'Thanksgiving': ['./chart/?id=thanksgiving.htm', <td align=\"right\"><font size=\"2\">$74.2</font></td>, <td align=\"right\"><font size=\"2\">19</font></td>], u'Thriller - On the Run': ['./chart/?id=thrillerontherun.htm', <td align=\"right\"><font size=\"2\">$259.8</font></td>, <td align=\"right\"><font size=\"2\">27</font></td>], u'Travelogue - Hawaii': ['./chart/?id=hawaii.htm', <td align=\"right\"><font size=\"2\">$198.5</font></td>, <td align=\"right\"><font size=\"2\">14</font></td>], u'Mother': ['./chart/?id=mother.htm', <td align=\"right\"><font size=\"2\">$144.1</font></td>, <td align=\"right\"><font size=\"2\">49</font></td>], u\"New Year's\": ['./chart/?id=newyears.htm', <td align=\"right\"><font size=\"2\">$126.7</font></td>, <td align=\"right\"><font size=\"2\">20</font></td>], u'Teacher - Other Movies with Teachers as Main Roles': ['./chart/?id=teacherselements.htm', <td align=\"right\"><font size=\"2\">$176.6</font></td>, <td align=\"right\"><font size=\"2\">40</font></td>], u'Sci-Fi Remake': ['./chart/?id=scifiremake.htm', <td align=\"right\"><font size=\"2\">$256.4</font></td>, <td align=\"right\"><font size=\"2\">26</font></td>], u'Cyborg / Android / Robot': ['./chart/?id=cyborg.htm', <td align=\"right\"><font size=\"2\">$459.0</font></td>, <td align=\"right\"><font size=\"2\">54</font></td>], u'Shark': ['./chart/?id=shark.htm', <td align=\"right\"><font size=\"2\">$380.8</font></td>, <td align=\"right\"><font size=\"2\">10</font></td>], u\"Cannes Film Festival - Palme D'Or winners\": ['./chart/?id=cannes.htm', <td align=\"right\"><font size=\"2\">$119.2</font></td>, <td align=\"right\"><font size=\"2\">35</font></td>], u'Thriller - Political': ['./chart/?id=politicalthriller.htm', <td align=\"right\"><font size=\"2\">$259.8</font></td>, <td align=\"right\"><font size=\"2\">63</font></td>], u'Travelogue - Mexico': ['./chart/?id=mexico.htm', <td align=\"right\"><font size=\"2\">$150.4</font></td>, <td align=\"right\"><font size=\"2\">23</font></td>], u'Sports - Hockey': ['./chart/?id=hockey.htm', <td align=\"right\"><font size=\"2\">$64.4</font></td>, <td align=\"right\"><font size=\"2\">16</font></td>], u'Future - Near': ['./chart/?id=future.htm', <td align=\"right\"><font size=\"2\">$256.4</font></td>, <td align=\"right\"><font size=\"2\">80</font></td>], u'Mouse/Rat - Featured': ['./chart/?id=mouseelements.htm', <td align=\"right\"><font size=\"2\">$334.2</font></td>, <td align=\"right\"><font size=\"2\">24</font></td>], u'Documentary - Political': ['./chart/?id=politicaldoc.htm', <td align=\"right\"><font size=\"2\">$119.2</font></td>, <td align=\"right\"><font size=\"2\">124</font></td>], u'Remake - Asian': ['./chart/?id=asianremake.htm', <td align=\"right\"><font size=\"2\">$200.7</font></td>, <td align=\"right\"><font size=\"2\">23</font></td>], u'Time Travel': ['./chart/?id=timetravel.htm', <td align=\"right\"><font size=\"2\">$257.7</font></td>, <td align=\"right\"><font size=\"2\">59</font></td>], u'War - World War 2': ['./chart/?id=worldwar2.htm', <td align=\"right\"><font size=\"2\">$216.5</font></td>, <td align=\"right\"><font size=\"2\">69</font></td>], u'Sports Comedy': ['./chart/?id=sportscomedy.htm', <td align=\"right\"><font size=\"2\">$161.5</font></td>, <td align=\"right\"><font size=\"2\">75</font></td>], u'Post-Apocalypse': ['./chart/?id=postapoalypse.htm', <td align=\"right\"><font size=\"2\">$424.7</font></td>, <td align=\"right\"><font size=\"2\">53</font></td>], u'Horror Anthology': ['./chart/?id=horroranthology.htm', <td align=\"right\"><font size=\"2\">$29.5</font></td>, <td align=\"right\"><font size=\"2\">20</font></td>], u\"Family - Children's Book Adaptation\": ['./chart/?id=childrensbook.htm', <td align=\"right\"><font size=\"2\">$381.0</font></td>, <td align=\"right\"><font size=\"2\">81</font></td>], u'Sports - Surfing': ['./chart/?id=surfing.htm', <td align=\"right\"><font size=\"2\">$58.9</font></td>, <td align=\"right\"><font size=\"2\">26</font></td>], u'Underwater': ['./chart/?id=underwater.htm', <td align=\"right\"><font size=\"2\">$380.8</font></td>, <td align=\"right\"><font size=\"2\">14</font></td>], u'Animation - Anime': ['./chart/?id=anime.htm', <td align=\"right\"><font size=\"2\">$85.7</font></td>, <td align=\"right\"><font size=\"2\">62</font></td>], u'Animation - TV Adaptation': ['./chart/?id=basedonanimatedtv.htm', <td align=\"right\"><font size=\"2\">$183.1</font></td>, <td align=\"right\"><font size=\"2\">41</font></td>], u'Sci-Fi Horror': ['./chart/?id=scifihorror.htm', <td align=\"right\"><font size=\"2\">$256.4</font></td>, <td align=\"right\"><font size=\"2\">58</font></td>], u'Crime - Romantic Comedy': ['./chart/?id=romcomcrime.htm', <td align=\"right\"><font size=\"2\">$66.8</font></td>, <td align=\"right\"><font size=\"2\">22</font></td>], u'Summer Girl Power': ['./chart/?id=summergirlpower.htm', <td align=\"right\"><font size=\"2\">$110.2</font></td>, <td align=\"right\"><font size=\"2\">28</font></td>], u'TV Cartoon (Live Action)': ['./chart/?id=basedoncartoons.htm', <td align=\"right\"><font size=\"2\">$402.1</font></td>, <td align=\"right\"><font size=\"2\">33</font></td>], u'Fantasy - Live Action': ['./chart/?id=liveactionfantasy.htm', <td align=\"right\"><font size=\"2\">$381.0</font></td>, <td align=\"right\"><font size=\"2\">114</font></td>], u'Horror - Period': ['./chart/?id=horrorperiod.htm', <td align=\"right\"><font size=\"2\">$137.4</font></td>, <td align=\"right\"><font size=\"2\">31</font></td>], u'Disability - Paraplegic / Quadriplegic': ['./chart/?id=disability-paraplegic.htm', <td align=\"right\"><font size=\"2\">$760.5</font></td>, <td align=\"right\"><font size=\"2\">25</font></td>], u'Terrorism': ['./chart/?id=terrorism.htm', <td align=\"right\"><font size=\"2\">$173.0</font></td>, <td align=\"right\"><font size=\"2\">49</font></td>], u'Sci-Fi - Satire': ['./chart/?id=scifisatire.htm', <td align=\"right\"><font size=\"2\">$125.6</font></td>, <td align=\"right\"><font size=\"2\">11</font></td>], u'3D': ['./chart/?id=3d.htm', <td align=\"right\"><font size=\"2\">$906.7</font></td>, <td align=\"right\"><font size=\"2\">254</font></td>], u'Dragon - Focal Point of Movie': ['./chart/?id=dragon.htm', <td align=\"right\"><font size=\"2\">$258.4</font></td>, <td align=\"right\"><font size=\"2\">10</font></td>], u'Comedy Remake': ['./chart/?id=comedyremake.htm', <td align=\"right\"><font size=\"2\">$158.1</font></td>, <td align=\"right\"><font size=\"2\">48</font></td>], u'Young-Adult Book Adaptations': ['./chart/?id=yaadaptations.htm', <td align=\"right\"><font size=\"2\">$424.7</font></td>, <td align=\"right\"><font size=\"2\">54</font></td>], u'Womanizer / Cad / Player': ['./chart/?id=womanizer.htm', <td align=\"right\"><font size=\"2\">$209.3</font></td>, <td align=\"right\"><font size=\"2\">28</font></td>], u'Sports - Period': ['./chart/?id=sportperiod.htm', <td align=\"right\"><font size=\"2\">$120.3</font></td>, <td align=\"right\"><font size=\"2\">41</font></td>], u'Sports - Golf': ['./chart/?id=golf.htm', <td align=\"right\"><font size=\"2\">$53.9</font></td>, <td align=\"right\"><font size=\"2\">10</font></td>], u'Virtual Reality': ['./chart/?id=virtualreality.htm', <td align=\"right\"><font size=\"2\">$281.6</font></td>, <td align=\"right\"><font size=\"2\">19</font></td>], u'Sci-Fi - Alien Invasion': ['./chart/?id=scifialieninvasion.htm', <td align=\"right\"><font size=\"2\">$623.4</font></td>, <td align=\"right\"><font size=\"2\">50</font></td>], u'Travelogue - Paris': ['./chart/?id=paris.htm', <td align=\"right\"><font size=\"2\">$217.5</font></td>, <td align=\"right\"><font size=\"2\">46</font></td>], u'Twentysomething': ['./chart/?id=twentysomething.htm', <td align=\"right\"><font size=\"2\">$38.7</font></td>, <td align=\"right\"><font size=\"2\">30</font></td>], u'Sports Drama': ['./chart/?id=sportsdrama.htm', <td align=\"right\"><font size=\"2\">$256.0</font></td>, <td align=\"right\"><font size=\"2\">132</font></td>], u'Travelogue - New Jersey': ['./chart/?id=newjersey.htm', <td align=\"right\"><font size=\"2\">$44.9</font></td>, <td align=\"right\"><font size=\"2\">25</font></td>], u'Political Satire': ['./chart/?id=politicalsatire.htm', <td align=\"right\"><font size=\"2\">$119.2</font></td>, <td align=\"right\"><font size=\"2\">34</font></td>], u'Sports - Baseball': ['./chart/?id=baseball.htm', <td align=\"right\"><font size=\"2\">$107.5</font></td>, <td align=\"right\"><font size=\"2\">46</font></td>], u'Adventure - Desert': ['./chart/?id=desertadventure.htm', <td align=\"right\"><font size=\"2\">$202.0</font></td>, <td align=\"right\"><font size=\"2\">24</font></td>], u'Travelogue - Japan': ['./chart/?id=japan.htm', <td align=\"right\"><font size=\"2\">$132.6</font></td>, <td align=\"right\"><font size=\"2\">16</font></td>], u'Fire / Firefighter': ['./chart/?id=fire.htm', <td align=\"right\"><font size=\"2\">$120.1</font></td>, <td align=\"right\"><font size=\"2\">15</font></td>], u'Action Heroine': ['./chart/?id=actionheroine.htm', <td align=\"right\"><font size=\"2\">$424.7</font></td>, <td align=\"right\"><font size=\"2\">67</font></td>], u'Pop Star Debuts': ['./chart/?id=popstardebuts.htm', <td align=\"right\"><font size=\"2\">$213.3</font></td>, <td align=\"right\"><font size=\"2\">59</font></td>], u'Animation - Computer': ['./chart/?id=computeranimation.htm', <td align=\"right\"><font size=\"2\">$441.2</font></td>, <td align=\"right\"><font size=\"2\">130</font></td>], u'Controversy': ['./chart/?id=controversy.htm', <td align=\"right\"><font size=\"2\">$370.8</font></td>, <td align=\"right\"><font size=\"2\">42</font></td>], u'Cinderella Complex': ['./chart/?id=cinderella.htm', <td align=\"right\"><font size=\"2\">$241.4</font></td>, <td align=\"right\"><font size=\"2\">19</font></td>], u'Found Footage': ['./chart/?id=foundfootage.htm', <td align=\"right\"><font size=\"2\">$140.5</font></td>, <td align=\"right\"><font size=\"2\">31</font></td>], u'Horror - Supernatural': ['./chart/?id=supernaturalhorror.htm', <td align=\"right\"><font size=\"2\">$293.5</font></td>, <td align=\"right\"><font size=\"2\">135</font></td>], u'Remake - Sequel to a Remake': ['./chart/?id=sequelremake.htm', <td align=\"right\"><font size=\"2\">$202.0</font></td>, <td align=\"right\"><font size=\"2\">22</font></td>], u'Sports - Olympics': ['./chart/?id=olympics.htm', <td align=\"right\"><font size=\"2\">$118.6</font></td>, <td align=\"right\"><font size=\"2\">14</font></td>], u'Comedy - Road Trip': ['./chart/?id=roadtrip.htm', <td align=\"right\"><font size=\"2\">$168.3</font></td>, <td align=\"right\"><font size=\"2\">56</font></td>], u'Superhero - Origin': ['./chart/?id=superheroorigin.htm', <td align=\"right\"><font size=\"2\">$403.7</font></td>, <td align=\"right\"><font size=\"2\">29</font></td>], u'Hollywood / Movies': ['./chart/?id=hollywoodmovies.htm', <td align=\"right\"><font size=\"2\">$156.5</font></td>, <td align=\"right\"><font size=\"2\">129</font></td>], u'Hitman / Assassin': ['./chart/?id=hitman.htm', <td align=\"right\"><font size=\"2\">$227.5</font></td>, <td align=\"right\"><font size=\"2\">72</font></td>], u'Sundance 2013': ['./chart/?id=sundance2013.htm', <td align=\"right\"><font size=\"2\">$24.5</font></td>, <td align=\"right\"><font size=\"2\">21</font></td>], u'Comedy - What If?': ['./chart/?id=whatifcomedy.htm', <td align=\"right\"><font size=\"2\">$242.8</font></td>, <td align=\"right\"><font size=\"2\">41</font></td>], u'Dance': ['./chart/?id=dance.htm', <td align=\"right\"><font size=\"2\">$113.7</font></td>, <td align=\"right\"><font size=\"2\">98</font></td>], u'Comedy - Spoof': ['./chart/?id=spoof.htm', <td align=\"right\"><font size=\"2\">$213.3</font></td>, <td align=\"right\"><font size=\"2\">69</font></td>], u'Mockumentary': ['./chart/?id=mockumentary.htm', <td align=\"right\"><font size=\"2\">$128.5</font></td>, <td align=\"right\"><font size=\"2\">38</font></td>], u'Sci-Fi - Adventure': ['./chart/?id=scifiadventure.htm', <td align=\"right\"><font size=\"2\">$906.7</font></td>, <td align=\"right\"><font size=\"2\">82</font></td>], u'Spy': ['./chart/?id=spy.htm', <td align=\"right\"><font size=\"2\">$368.1</font></td>, <td align=\"right\"><font size=\"2\">117</font></td>], u'Toys Come to Life': ['./chart/?id=toys.htm', <td align=\"right\"><font size=\"2\">$415.0</font></td>, <td align=\"right\"><font size=\"2\">14</font></td>], u'Sports - Coach': ['./chart/?id=coach.htm', <td align=\"right\"><font size=\"2\">$115.7</font></td>, <td align=\"right\"><font size=\"2\">30</font></td>], u'Pregnancy': ['./chart/?id=pregnancy.htm', <td align=\"right\"><font size=\"2\">$281.3</font></td>, <td align=\"right\"><font size=\"2\">33</font></td>], u'Comedy - College': ['./chart/?id=collegecomedy.htm', <td align=\"right\"><font size=\"2\">$268.5</font></td>, <td align=\"right\"><font size=\"2\">52</font></td>], u'Video Game Adaptation': ['./chart/?id=videogameadaptation.htm', <td align=\"right\"><font size=\"2\">$131.2</font></td>, <td align=\"right\"><font size=\"2\">35</font></td>], u'Travelogue - Boston': ['./chart/?id=boston.htm', <td align=\"right\"><font size=\"2\">$218.8</font></td>, <td align=\"right\"><font size=\"2\">24</font></td>], u'School - Prep / Boarding / Catholic': ['./chart/?id=boardingschool.htm', <td align=\"right\"><font size=\"2\">$317.6</font></td>, <td align=\"right\"><font size=\"2\">38</font></td>], u'Horror - Slasher': ['./chart/?id=slasher.htm', <td align=\"right\"><font size=\"2\">$103.0</font></td>, <td align=\"right\"><font size=\"2\">98</font></td>], u'Political Campaign / Election': ['./chart/?id=political-election.htm', <td align=\"right\"><font size=\"2\">$86.9</font></td>, <td align=\"right\"><font size=\"2\">34</font></td>], u'Remake - French': ['./chart/?id=frenchremake.htm', <td align=\"right\"><font size=\"2\">$167.8</font></td>, <td align=\"right\"><font size=\"2\">38</font></td>], u'Romantic Drama': ['./chart/?id=romanticdrama.htm', <td align=\"right\"><font size=\"2\">$658.7</font></td>, <td align=\"right\"><font size=\"2\">198</font></td>], u'Sci-Fi - Based on Book': ['./chart/?id=scifibook.htm', <td align=\"right\"><font size=\"2\">$424.7</font></td>, <td align=\"right\"><font size=\"2\">67</font></td>], u'Submarine': ['./chart/?id=submarine.htm', <td align=\"right\"><font size=\"2\">$122.0</font></td>, <td align=\"right\"><font size=\"2\">9</font></td>], u'Comedy - Dark/Black': ['./chart/?id=blackcomedy.htm', <td align=\"right\"><font size=\"2\">$117.5</font></td>, <td align=\"right\"><font size=\"2\">84</font></td>], u'Comic Book Adaptation': ['./chart/?id=comicbookadaptation.htm', <td align=\"right\"><font size=\"2\">$623.4</font></td>, <td align=\"right\"><font size=\"2\">136</font></td>], u'Sports - Basketball': ['./chart/?id=basketball.htm', <td align=\"right\"><font size=\"2\">$90.4</font></td>, <td align=\"right\"><font size=\"2\">44</font></td>], u'Superhero': ['./chart/?id=superhero.htm', <td align=\"right\"><font size=\"2\">$623.4</font></td>, <td align=\"right\"><font size=\"2\">106</font></td>], u'Pirate': ['./chart/?id=pirate.htm', <td align=\"right\"><font size=\"2\">$423.3</font></td>, <td align=\"right\"><font size=\"2\">24</font></td>], u'Remake - Foreign Thrills': ['./chart/?id=foreignthrillerremake.htm', <td align=\"right\"><font size=\"2\">$200.7</font></td>, <td align=\"right\"><font size=\"2\">40</font></td>], u'Teen Romance': ['./chart/?id=teenromance.htm', <td align=\"right\"><font size=\"2\">$300.5</font></td>, <td align=\"right\"><font size=\"2\">59</font></td>], u'Explorer': ['./chart/?id=explorer.htm', <td align=\"right\"><font size=\"2\">$84.1</font></td>, <td align=\"right\"><font size=\"2\">18</font></td>], u'Con Artist / Hustler': ['./chart/?id=conartist.htm', <td align=\"right\"><font size=\"2\">$164.6</font></td>, <td align=\"right\"><font size=\"2\">56</font></td>], u'Hostage': ['./chart/?id=hostage.htm', <td align=\"right\"><font size=\"2\">$173.0</font></td>, <td align=\"right\"><font size=\"2\">48</font></td>], u'Memory Loss / Amnesia': ['./chart/?id=memory.htm', <td align=\"right\"><font size=\"2\">$227.5</font></td>, <td align=\"right\"><font size=\"2\">29</font></td>], u'Prequel': ['./chart/?id=prequel.htm', <td align=\"right\"><font size=\"2\">$474.5</font></td>, <td align=\"right\"><font size=\"2\">35</font></td>], u'Comedy - R-Rated Youth': ['./chart/?id=r-ratedcomedy.htm', <td align=\"right\"><font size=\"2\">$277.3</font></td>, <td align=\"right\"><font size=\"2\">115</font></td>], u'Werewolf': ['./chart/?id=werewolf.htm', <td align=\"right\"><font size=\"2\">$300.5</font></td>, <td align=\"right\"><font size=\"2\">27</font></td>], u'Comedy - Bumbling': ['./chart/?id=bumblingcomedy.htm', <td align=\"right\"><font size=\"2\">$146.3</font></td>, <td align=\"right\"><font size=\"2\">38</font></td>], u'Action - Martial Arts': ['./chart/?id=martialarts.htm', <td align=\"right\"><font size=\"2\">$226.2</font></td>, <td align=\"right\"><font size=\"2\">162</font></td>], u'Christmas - Setting Only': ['./chart/?id=christmassetting.htm', <td align=\"right\"><font size=\"2\">$409.0</font></td>, <td align=\"right\"><font size=\"2\">42</font></td>], u'Wedding': ['./chart/?id=wedding.htm', <td align=\"right\"><font size=\"2\">$241.4</font></td>, <td align=\"right\"><font size=\"2\">56</font></td>], u'Sports - Football (Featured)': ['./chart/?id=footballelements.htm', <td align=\"right\"><font size=\"2\">$330.3</font></td>, <td align=\"right\"><font size=\"2\">14</font></td>], u'Comedy - Fish-Out-of-Water Father': ['./chart/?id=daddyfishoutofwater.htm', <td align=\"right\"><font size=\"2\">$368.1</font></td>, <td align=\"right\"><font size=\"2\">39</font></td>], u'Horror - Torture': ['./chart/?id=horrortorture.htm', <td align=\"right\"><font size=\"2\">$87.0</font></td>, <td align=\"right\"><font size=\"2\">31</font></td>], u'Sci-Fi Comedy': ['./chart/?id=scificomedy.htm', <td align=\"right\"><font size=\"2\">$250.7</font></td>, <td align=\"right\"><font size=\"2\">71</font></td>], u'Sports - Extreme': ['./chart/?id=extremesports.htm', <td align=\"right\"><font size=\"2\">$142.1</font></td>, <td align=\"right\"><font size=\"2\">49</font></td>], u'Music Concert': ['./chart/?id=musicconcert.htm', <td align=\"right\"><font size=\"2\">$73.0</font></td>, <td align=\"right\"><font size=\"2\">29</font></td>], u'Comedy - High School': ['./chart/?id=highschoolcomedy.htm', <td align=\"right\"><font size=\"2\">$138.4</font></td>, <td align=\"right\"><font size=\"2\">71</font></td>], u'Action - Buddy Comedy': ['./chart/?id=actionbuddycomedy.htm', <td align=\"right\"><font size=\"2\">$250.7</font></td>, <td align=\"right\"><font size=\"2\">80</font></td>], u'TV Kids Show (Live Action)': ['./chart/?id=basedonkidsshow.htm', <td align=\"right\"><font size=\"2\">$88.6</font></td>, <td align=\"right\"><font size=\"2\">17</font></td>], u'Action - Wire-Fu': ['./chart/?id=wirefu.htm', <td align=\"right\"><font size=\"2\">$281.6</font></td>, <td align=\"right\"><font size=\"2\">27</font></td>], u'Medieval Times': ['./chart/?id=medieval.htm', <td align=\"right\"><font size=\"2\">$165.5</font></td>, <td align=\"right\"><font size=\"2\">33</font></td>], u'Drama - Kidnapping': ['./chart/?id=kidnappingdrama.htm', <td align=\"right\"><font size=\"2\">$145.0</font></td>, <td align=\"right\"><font size=\"2\">30</font></td>], u'Travelogue - Las Vegas': ['./chart/?id=lasvegas.htm', <td align=\"right\"><font size=\"2\">$277.3</font></td>, <td align=\"right\"><font size=\"2\">22</font></td>], u'Vampire': ['./chart/?id=vampire.htm', <td align=\"right\"><font size=\"2\">$300.5</font></td>, <td align=\"right\"><font size=\"2\">79</font></td>], u'Neo Noir': ['./chart/?id=neonoir.htm', <td align=\"right\"><font size=\"2\">$74.1</font></td>, <td align=\"right\"><font size=\"2\">72</font></td>], u'Rap / Rapper': ['./chart/?id=rap.htm', <td align=\"right\"><font size=\"2\">$161.2</font></td>, <td align=\"right\"><font size=\"2\">36</font></td>], u'Gay / Lesbian': ['./chart/?id=gay.htm', <td align=\"right\"><font size=\"2\">$124.1</font></td>, <td align=\"right\"><font size=\"2\">331</font></td>], u'Irish': ['./chart/?id=irish.htm', <td align=\"right\"><font size=\"2\">$132.4</font></td>, <td align=\"right\"><font size=\"2\">68</font></td>], u'Romantic Comedy': ['./chart/?id=romanticcomedy.htm', <td align=\"right\"><font size=\"2\">$241.4</font></td>, <td align=\"right\"><font size=\"2\">472</font></td>], u'Superhero - Comedy': ['./chart/?id=superherocomedy.htm', <td align=\"right\"><font size=\"2\">$261.4</font></td>, <td align=\"right\"><font size=\"2\">17</font></td>], u'Mouse / Rat': ['./chart/?id=mouse.htm', <td align=\"right\"><font size=\"2\">$206.4</font></td>, <td align=\"right\"><font size=\"2\">13</font></td>], u'Off-Screen Couples On-Screen': ['./chart/?id=offscreencouples.htm', <td align=\"right\"><font size=\"2\">$300.5</font></td>, <td align=\"right\"><font size=\"2\">50</font></td>], u'Foreign Language': ['./chart/?id=foreign.htm', <td align=\"right\"><font size=\"2\">$128.1</font></td>, <td align=\"right\"><font size=\"2\">1781</font></td>], u'Comedy - Music': ['./chart/?id=musiccomedy.htm', <td align=\"right\"><font size=\"2\">$184.3</font></td>, <td align=\"right\"><font size=\"2\">26</font></td>], u'Pilot / Aircraft': ['./chart/?id=pilot.htm', <td align=\"right\"><font size=\"2\">$198.5</font></td>, <td align=\"right\"><font size=\"2\">46</font></td>], u'Horror Remake': ['./chart/?id=horrorremake.htm', <td align=\"right\"><font size=\"2\">$129.1</font></td>, <td align=\"right\"><font size=\"2\">67</font></td>], u'Horror - Terror in the Water': ['./chart/?id=terrorintehwater.htm', <td align=\"right\"><font size=\"2\">$260.0</font></td>, <td align=\"right\"><font size=\"2\">19</font></td>], u'Cop - Dirty': ['./chart/?id=dirtycop.htm', <td align=\"right\"><font size=\"2\">$132.4</font></td>, <td align=\"right\"><font size=\"2\">34</font></td>], u'Environmentalist': ['./chart/?id=environment.htm', <td align=\"right\"><font size=\"2\">$760.5</font></td>, <td align=\"right\"><font size=\"2\">48</font></td>], u'Cooking': ['./chart/?id=cooking.htm', <td align=\"right\"><font size=\"2\">$206.4</font></td>, <td align=\"right\"><font size=\"2\">21</font></td>], u'Adventure Remake': ['./chart/?id=adventureremake.htm', <td align=\"right\"><font size=\"2\">$218.1</font></td>, <td align=\"right\"><font size=\"2\">26</font></td>], u'Comedy - God': ['./chart/?id=godcomedy.htm', <td align=\"right\"><font size=\"2\">$242.8</font></td>, <td align=\"right\"><font size=\"2\">18</font></td>], u'Teacher - Inspirational': ['./chart/?id=teachers.htm', <td align=\"right\"><font size=\"2\">$95.9</font></td>, <td align=\"right\"><font size=\"2\">24</font></td>], u'Animation': ['./chart/?id=animation.htm', <td align=\"right\"><font size=\"2\">$441.2</font></td>, <td align=\"right\"><font size=\"2\">381</font></td>], u'Twins': ['./chart/?id=twins.htm', <td align=\"right\"><font size=\"2\">$111.9</font></td>, <td align=\"right\"><font size=\"2\">27</font></td>], u'Animation - Fantasy': ['./chart/?id=animatedfantasy.htm', <td align=\"right\"><font size=\"2\">$441.2</font></td>, <td align=\"right\"><font size=\"2\">66</font></td>], u'Animation - Motion Capture': ['./chart/?id=animationmotioncap.htm', <td align=\"right\"><font size=\"2\">$183.4</font></td>, <td align=\"right\"><font size=\"2\">7</font></td>], u'Sci-Fi Chase': ['./chart/?id=scifichase.htm', <td align=\"right\"><font size=\"2\">$204.8</font></td>, <td align=\"right\"><font size=\"2\">40</font></td>], u'Christmas': ['./chart/?id=christmas.htm', <td align=\"right\"><font size=\"2\">$260.0</font></td>, <td align=\"right\"><font size=\"2\">62</font></td>], u'Biopic - Music': ['./chart/?id=musicbio.htm', <td align=\"right\"><font size=\"2\">$161.2</font></td>, <td align=\"right\"><font size=\"2\">44</font></td>], u'Man vs. Machine': ['./chart/?id=manvsmachine.htm', <td align=\"right\"><font size=\"2\">$281.6</font></td>, <td align=\"right\"><font size=\"2\">22</font></td>], u'Mindbender': ['./chart/?id=mindbender.htm', <td align=\"right\"><font size=\"2\">$356.5</font></td>, <td align=\"right\"><font size=\"2\">25</font></td>], u'Crime Time': ['./chart/?id=crime.htm', <td align=\"right\"><font size=\"2\">$292.6</font></td>, <td align=\"right\"><font size=\"2\">118</font></td>], u'Christian': ['./chart/?id=christian.htm', <td align=\"right\"><font size=\"2\">$370.8</font></td>, <td align=\"right\"><font size=\"2\">124</font></td>], u'Action Remake': ['./chart/?id=actionremake.htm', <td align=\"right\"><font size=\"2\">$176.6</font></td>, <td align=\"right\"><font size=\"2\">25</font></td>], u'Family - Talking Animal (Live action)': ['./chart/?id=talkinganimal.htm', <td align=\"right\"><font size=\"2\">$219.6</font></td>, <td align=\"right\"><font size=\"2\">34</font></td>], u'Treasure Hunt': ['./chart/?id=treasurehunt.htm', <td align=\"right\"><font size=\"2\">$423.3</font></td>, <td align=\"right\"><font size=\"2\">25</font></td>], u'Revenge': ['./chart/?id=revenge.htm', <td align=\"right\"><font size=\"2\">$187.7</font></td>, <td align=\"right\"><font size=\"2\">72</font></td>], u'Travelogue - Middle East': ['./chart/?id=middleeast.htm', <td align=\"right\"><font size=\"2\">$402.1</font></td>, <td align=\"right\"><font size=\"2\">43</font></td>], u'Family - Remake': ['./chart/?id=familyremake.htm', <td align=\"right\"><font size=\"2\">$206.5</font></td>, <td align=\"right\"><font size=\"2\">31</font></td>], u'Thriller - Erotic': ['./chart/?id=eroticthriller.htm', <td align=\"right\"><font size=\"2\">$156.6</font></td>, <td align=\"right\"><font size=\"2\">55</font></td>], u'Slacker / Stoner': ['./chart/?id=slackerstoner.htm', <td align=\"right\"><font size=\"2\">$218.8</font></td>, <td align=\"right\"><font size=\"2\">64</font></td>], u'Drama - Summer': ['./chart/?id=summerdrama.htm', <td align=\"right\"><font size=\"2\">$330.3</font></td>, <td align=\"right\"><font size=\"2\">140</font></td>], u'Comedy - Arrested Development': ['./chart/?id=arresteddevelopment.htm', <td align=\"right\"><font size=\"2\">$218.8</font></td>, <td align=\"right\"><font size=\"2\">24</font></td>], u'Family - Animal (Live action)': ['./chart/?id=animal.htm', <td align=\"right\"><font size=\"2\">$81.6</font></td>, <td align=\"right\"><font size=\"2\">58</font></td>], u'Sword and Sorcery': ['./chart/?id=swordandsorcery.htm', <td align=\"right\"><font size=\"2\">$377.8</font></td>, <td align=\"right\"><font size=\"2\">32</font></td>], u'Puppet / Puppetry': ['./chart/?id=puppet.htm', <td align=\"right\"><font size=\"2\">$88.6</font></td>, <td align=\"right\"><font size=\"2\">18</font></td>], u'Comedy - Sequel (Live Action)': ['./chart/?id=comedysequel.htm', <td align=\"right\"><font size=\"2\">$279.3</font></td>, <td align=\"right\"><font size=\"2\">108</font></td>], u'War - World War I': ['./chart/?id=worldwari.htm', <td align=\"right\"><font size=\"2\">$79.9</font></td>, <td align=\"right\"><font size=\"2\">12</font></td>], u'Zombie': ['./chart/?id=zombie.htm', <td align=\"right\"><font size=\"2\">$202.4</font></td>, <td align=\"right\"><font size=\"2\">61</font></td>], u'Animation - Stop Motion': ['./chart/?id=animationstop.htm', <td align=\"right\"><font size=\"2\">$106.8</font></td>, <td align=\"right\"><font size=\"2\">21</font></td>], u'Cross Dressing / Gender Bending': ['./chart/?id=crossdressing.htm', <td align=\"right\"><font size=\"2\">$219.2</font></td>, <td align=\"right\"><font size=\"2\">40</font></td>], u'Dog': ['./chart/?id=dog.htm', <td align=\"right\"><font size=\"2\">$153.3</font></td>, <td align=\"right\"><font size=\"2\">60</font></td>], u'Global Warming': ['./chart/?id=globalwarming.htm', <td align=\"right\"><font size=\"2\">$186.7</font></td>, <td align=\"right\"><font size=\"2\">8</font></td>], u'Dinosaur': ['./chart/?id=dinosaur.htm', <td align=\"right\"><font size=\"2\">$652.3</font></td>, <td align=\"right\"><font size=\"2\">14</font></td>], u'CGI Star': ['./chart/?id=cgistar.htm', <td align=\"right\"><font size=\"2\">$760.5</font></td>, <td align=\"right\"><font size=\"2\">39</font></td>], u'News/Broadcasting': ['./chart/?id=news.htm', <td align=\"right\"><font size=\"2\">$242.8</font></td>, <td align=\"right\"><font size=\"2\">49</font></td>], u'Documentary': ['./chart/?id=documentary.htm', <td align=\"right\"><font size=\"2\">$119.2</font></td>, <td align=\"right\"><font size=\"2\">1319</font></td>], u'Musical': ['./chart/?id=musical.htm', <td align=\"right\"><font size=\"2\">$188.8</font></td>, <td align=\"right\"><font size=\"2\">84</font></td>], u'President': ['./chart/?id=president.htm', <td align=\"right\"><font size=\"2\">$306.2</font></td>, <td align=\"right\"><font size=\"2\">37</font></td>], u\"That '70s Movie\": ['./chart/?id=70s.htm', <td align=\"right\"><font size=\"2\">$233.9</font></td>, <td align=\"right\"><font size=\"2\">71</font></td>], u'Disaster': ['./chart/?id=disaster.htm', <td align=\"right\"><font size=\"2\">$658.7</font></td>, <td align=\"right\"><font size=\"2\">49</font></td>], u'Toy Adaptation': ['./chart/?id=toyadaptation.htm', <td align=\"right\"><font size=\"2\">$402.1</font></td>, <td align=\"right\"><font size=\"2\">22</font></td>], u'True Crime': ['./chart/?id=truecrime.htm', <td align=\"right\"><font size=\"2\">$164.6</font></td>, <td align=\"right\"><font size=\"2\">55</font></td>], u'Thriller - Serial Killer': ['./chart/?id=serialkillerthriller.htm', <td align=\"right\"><font size=\"2\">$165.1</font></td>, <td align=\"right\"><font size=\"2\">60</font></td>], u'IMAX (Feature-length)': ['./chart/?id=imax.htm', <td align=\"right\"><font size=\"2\">$906.7</font></td>, <td align=\"right\"><font size=\"2\">167</font></td>], u'Comedy - Body Switch': ['./chart/?id=bodyswitchcomedy.htm', <td align=\"right\"><font size=\"2\">$115.0</font></td>, <td align=\"right\"><font size=\"2\">17</font></td>], u'Sports - Soccer': ['./chart/?id=soccer.htm', <td align=\"right\"><font size=\"2\">$52.8</font></td>, <td align=\"right\"><font size=\"2\">24</font></td>]}\n"
     ]
    }
   ],
   "source": [
    "all_tables = soup.find_all('table')\n",
    "rows_with_stuff = all_tables[2].find('tr').find_all('tr')\n",
    "\n",
    "\n",
    "def get_genre_dict(rows_with_stuff):\n",
    "    genre_dict = {}\n",
    "    for row_soup in rows_with_stuff:\n",
    "        cells = row_soup.find_all('td')\n",
    "        genre, num_movies, top_picture, gross = [c for c in cells]\n",
    "        genre_name = genre.text\n",
    "        genre_url = genre.find('a')['href']\n",
    "        genre_dict[genre_name] = ([genre_url, gross, num_movies])\n",
    "    return genre_dict\n",
    "    \n",
    "genre_dict = get_genre_dict(rows_with_stuff)\n",
    "del(genre_dict['Genre (click to view chart)'])\n",
    "print len(genre_dict), genre_dict"
   ]
  },
  {
   "cell_type": "code",
   "execution_count": 205,
   "metadata": {
    "collapsed": false
   },
   "outputs": [
    {
     "name": "stdout",
     "output_type": "stream",
     "text": [
      "6060 (u'Behind the Mask: The Rise of Leslie Vernon', [[u'Horror Comedy', u'91', '/movies/?id=behindthemask.htm', u'Anch.', u'$69,136', u'72', u'$38,500', u'72'], [u'Horror - Slasher', u'95', '/movies/?id=behindthemask.htm', u'Anch.', u'$69,136', u'72', u'$38,500', u'72']])\n"
     ]
    }
   ],
   "source": [
    "# Gets the genre url and calls the BeautifulSoup (get_soup_object) function to get the movie information for each genre\n",
    "\n",
    "movie_dict = defaultdict(list)\n",
    "def get_movie_dict(rows_with_genre_movies, genre):\n",
    "#     print \"in def2\"\n",
    "    for row_genre in rows_with_genre_movies[1:]:\n",
    "        cells = row_genre.find_all('td')\n",
    "        if len(cells) == 8:\n",
    "            rank, title, studio, lifetime_gross, lifetime_theatres, opening_weekend_gross, opening_theatres, date = [cell for cell in cells]\n",
    "            movie_url = title.find('a')['href']\n",
    "            movie_dict[title.text].append([genre, rank.text, movie_url, studio.text, lifetime_gross.text, lifetime_theatres.text, opening_weekend_gross.text, opening_theatres.text])\n",
    "\n",
    "\n",
    "base_url = 'http://www.boxofficemojo.com/genres'\n",
    "\n",
    "def get_movieslist_for_genre(genre_dict):\n",
    "    extention_url = genre_dict[1][0]\n",
    "    genre_url = base_url+(extention_url.lstrip('.'))\n",
    "    genre_object = get_soup_object(genre_url)\n",
    "    genre_movie_tables = genre_object.find_all('table')\n",
    "    rows_with_genre_movies = genre_movie_tables[2].find('tr').find_all('tr')\n",
    "    genre = genre_dict[0]\n",
    "    get_movie_dict(rows_with_genre_movies, genre)\n",
    "\n",
    "for item in genre_dict.items():\n",
    "    get_movieslist_for_genre(item)\n",
    "    \n",
    "# movies\n",
    "print len(movie_dict), movie_dict.items()[100]"
   ]
  },
  {
   "cell_type": "code",
   "execution_count": 6,
   "metadata": {
    "collapsed": true
   },
   "outputs": [],
   "source": [
    "# movie_dict.items()[200]"
   ]
  },
  {
   "cell_type": "markdown",
   "metadata": {},
   "source": [
    "Some of the movies are listed under multiple genres and to copy them into a pandas dataframe I just kept the first one and deleted the rest."
   ]
  },
  {
   "cell_type": "code",
   "execution_count": 206,
   "metadata": {
    "collapsed": true
   },
   "outputs": [],
   "source": [
    "movie_dict1 = {}\n",
    "def get_single_value_per_movie(movie_dict):\n",
    "    for key, values in movie_dict.iteritems():\n",
    "        if len(values) >= 1:\n",
    "            movie_dict1[key] = values[0]\n",
    "    return movie_dict1\n",
    "\n",
    "movie_dict1 = get_single_value_per_movie(movie_dict)\n",
    "# movie_dict1.items()[0]"
   ]
  },
  {
   "cell_type": "markdown",
   "metadata": {},
   "source": [
    "## Pickle movie_dict dictionary as movie_dict.pkl"
   ]
  },
  {
   "cell_type": "code",
   "execution_count": 209,
   "metadata": {
    "collapsed": true
   },
   "outputs": [],
   "source": [
    "import pickle\n",
    "\n",
    "with open('movie_dict.pkl', 'w') as picklefile:\n",
    "    pickle.dump(movie_dict1, picklefile)"
   ]
  },
  {
   "cell_type": "code",
   "execution_count": 210,
   "metadata": {
    "collapsed": false
   },
   "outputs": [
    {
     "data": {
      "text/html": [
       "<div>\n",
       "<table border=\"1\" class=\"dataframe\">\n",
       "  <thead>\n",
       "    <tr style=\"text-align: right;\">\n",
       "      <th></th>\n",
       "      <th>Genre</th>\n",
       "      <th>Rank</th>\n",
       "      <th>Movie_url</th>\n",
       "      <th>Studio</th>\n",
       "      <th>Lifetime_gross</th>\n",
       "      <th>Lifetime-theatres</th>\n",
       "      <th>OpeningWeekend_gross</th>\n",
       "      <th>openingWeekend_theatres</th>\n",
       "    </tr>\n",
       "  </thead>\n",
       "  <tbody>\n",
       "    <tr>\n",
       "      <th>Elephant(2003)</th>\n",
       "      <td>Cannes Film Festival - Palme D'Or winners</td>\n",
       "      <td>23</td>\n",
       "      <td>/movies/?id=elephant.htm</td>\n",
       "      <td>FL</td>\n",
       "      <td>$1,266,955</td>\n",
       "      <td>38</td>\n",
       "      <td>$93,356</td>\n",
       "      <td>6</td>\n",
       "    </tr>\n",
       "    <tr>\n",
       "      <th>Vampires Suck</th>\n",
       "      <td>Horror Comedy</td>\n",
       "      <td>17</td>\n",
       "      <td>/movies/?id=untitledvampirespoof.htm</td>\n",
       "      <td>Fox</td>\n",
       "      <td>$36,661,504</td>\n",
       "      <td>3,233</td>\n",
       "      <td>$12,202,831</td>\n",
       "      <td>3,233</td>\n",
       "    </tr>\n",
       "    <tr>\n",
       "      <th>The Road</th>\n",
       "      <td>Post-Apocalypse</td>\n",
       "      <td>32</td>\n",
       "      <td>/movies/?id=road08.htm</td>\n",
       "      <td>W/Dim.</td>\n",
       "      <td>$8,117,000</td>\n",
       "      <td>396</td>\n",
       "      <td>$1,502,231</td>\n",
       "      <td>111</td>\n",
       "    </tr>\n",
       "    <tr>\n",
       "      <th>Rob Roy</th>\n",
       "      <td>Adventure - Period</td>\n",
       "      <td>47</td>\n",
       "      <td>/movies/?id=robroy.htm</td>\n",
       "      <td>MGM</td>\n",
       "      <td>$31,596,911</td>\n",
       "      <td>1,885</td>\n",
       "      <td>$2,023,272</td>\n",
       "      <td>133</td>\n",
       "    </tr>\n",
       "    <tr>\n",
       "      <th>Sugar</th>\n",
       "      <td>Sports Drama</td>\n",
       "      <td>100</td>\n",
       "      <td>/movies/?id=sugar09.htm</td>\n",
       "      <td>SPC</td>\n",
       "      <td>$1,082,124</td>\n",
       "      <td>51</td>\n",
       "      <td>$60,140</td>\n",
       "      <td>11</td>\n",
       "    </tr>\n",
       "  </tbody>\n",
       "</table>\n",
       "</div>"
      ],
      "text/plain": [
       "                                                    Genre Rank  \\\n",
       "Elephant(2003)  Cannes Film Festival - Palme D'Or winners   23   \n",
       "Vampires Suck                               Horror Comedy   17   \n",
       "The Road                                  Post-Apocalypse   32   \n",
       "Rob Roy                                Adventure - Period   47   \n",
       "Sugar                                        Sports Drama  100   \n",
       "\n",
       "                                           Movie_url  Studio Lifetime_gross  \\\n",
       "Elephant(2003)              /movies/?id=elephant.htm      FL     $1,266,955   \n",
       "Vampires Suck   /movies/?id=untitledvampirespoof.htm     Fox    $36,661,504   \n",
       "The Road                      /movies/?id=road08.htm  W/Dim.     $8,117,000   \n",
       "Rob Roy                       /movies/?id=robroy.htm     MGM    $31,596,911   \n",
       "Sugar                        /movies/?id=sugar09.htm     SPC     $1,082,124   \n",
       "\n",
       "               Lifetime-theatres OpeningWeekend_gross openingWeekend_theatres  \n",
       "Elephant(2003)                38              $93,356                       6  \n",
       "Vampires Suck              3,233          $12,202,831                   3,233  \n",
       "The Road                     396           $1,502,231                     111  \n",
       "Rob Roy                    1,885           $2,023,272                     133  \n",
       "Sugar                         51              $60,140                      11  "
      ]
     },
     "execution_count": 210,
     "metadata": {},
     "output_type": "execute_result"
    }
   ],
   "source": [
    "# Import pickled data and\n",
    "# Convert the movie data dictionary (movie_dict1) into a pandas dataframe\n",
    "\n",
    "import pandas as pd\n",
    "\n",
    "cols = ['Genre', 'Rank', 'Movie_url', 'Studio', 'Lifetime_gross', 'Lifetime-theatres', 'OpeningWeekend_gross', 'openingWeekend_theatres']\n",
    "with open('movie_dict.pkl', 'r') as picklefile:\n",
    "    movie_data = pickle.load(picklefile)\n",
    "    df = pd.DataFrame.from_dict(movie_data, orient='index')\n",
    "    df.columns = cols\n",
    "df.head()\n",
    "\n"
   ]
  },
  {
   "cell_type": "markdown",
   "metadata": {},
   "source": [
    "Clean the data by first getting rid of '$' and','. Then replace all the 'n/a's with numpy nan's and drop all the rows with na values for 'Lifetime_gross' and 'OpeningWeekend_gross' columns. "
   ]
  },
  {
   "cell_type": "code",
   "execution_count": 9,
   "metadata": {
    "collapsed": false
   },
   "outputs": [
    {
     "data": {
      "text/html": [
       "<div>\n",
       "<table border=\"1\" class=\"dataframe\">\n",
       "  <thead>\n",
       "    <tr style=\"text-align: right;\">\n",
       "      <th></th>\n",
       "      <th>Genre</th>\n",
       "      <th>Rank</th>\n",
       "      <th>Movie_url</th>\n",
       "      <th>Studio</th>\n",
       "      <th>Lifetime_gross</th>\n",
       "      <th>Lifetime-theatres</th>\n",
       "      <th>OpeningWeekend_gross</th>\n",
       "      <th>openingWeekend_theatres</th>\n",
       "    </tr>\n",
       "  </thead>\n",
       "  <tbody>\n",
       "    <tr>\n",
       "      <th>Elephant(2003)</th>\n",
       "      <td>Cannes Film Festival - Palme D'Or winners</td>\n",
       "      <td>23</td>\n",
       "      <td>/movies/?id=elephant.htm</td>\n",
       "      <td>FL</td>\n",
       "      <td>1266955</td>\n",
       "      <td>38</td>\n",
       "      <td>93356</td>\n",
       "      <td>6</td>\n",
       "    </tr>\n",
       "    <tr>\n",
       "      <th>Vampires Suck</th>\n",
       "      <td>Horror Comedy</td>\n",
       "      <td>17</td>\n",
       "      <td>/movies/?id=untitledvampirespoof.htm</td>\n",
       "      <td>Fox</td>\n",
       "      <td>36661504</td>\n",
       "      <td>3,233</td>\n",
       "      <td>12202831</td>\n",
       "      <td>3233</td>\n",
       "    </tr>\n",
       "    <tr>\n",
       "      <th>The Road</th>\n",
       "      <td>Post-Apocalypse</td>\n",
       "      <td>32</td>\n",
       "      <td>/movies/?id=road08.htm</td>\n",
       "      <td>W/Dim.</td>\n",
       "      <td>8117000</td>\n",
       "      <td>396</td>\n",
       "      <td>1502231</td>\n",
       "      <td>111</td>\n",
       "    </tr>\n",
       "    <tr>\n",
       "      <th>Rob Roy</th>\n",
       "      <td>Adventure - Period</td>\n",
       "      <td>47</td>\n",
       "      <td>/movies/?id=robroy.htm</td>\n",
       "      <td>MGM</td>\n",
       "      <td>31596911</td>\n",
       "      <td>1,885</td>\n",
       "      <td>2023272</td>\n",
       "      <td>133</td>\n",
       "    </tr>\n",
       "    <tr>\n",
       "      <th>Sugar</th>\n",
       "      <td>Sports Drama</td>\n",
       "      <td>100</td>\n",
       "      <td>/movies/?id=sugar09.htm</td>\n",
       "      <td>SPC</td>\n",
       "      <td>1082124</td>\n",
       "      <td>51</td>\n",
       "      <td>60140</td>\n",
       "      <td>11</td>\n",
       "    </tr>\n",
       "  </tbody>\n",
       "</table>\n",
       "</div>"
      ],
      "text/plain": [
       "                                                    Genre Rank  \\\n",
       "Elephant(2003)  Cannes Film Festival - Palme D'Or winners   23   \n",
       "Vampires Suck                               Horror Comedy   17   \n",
       "The Road                                  Post-Apocalypse   32   \n",
       "Rob Roy                                Adventure - Period   47   \n",
       "Sugar                                        Sports Drama  100   \n",
       "\n",
       "                                           Movie_url  Studio Lifetime_gross  \\\n",
       "Elephant(2003)              /movies/?id=elephant.htm      FL        1266955   \n",
       "Vampires Suck   /movies/?id=untitledvampirespoof.htm     Fox       36661504   \n",
       "The Road                      /movies/?id=road08.htm  W/Dim.        8117000   \n",
       "Rob Roy                       /movies/?id=robroy.htm     MGM       31596911   \n",
       "Sugar                        /movies/?id=sugar09.htm     SPC        1082124   \n",
       "\n",
       "               Lifetime-theatres OpeningWeekend_gross openingWeekend_theatres  \n",
       "Elephant(2003)                38                93356                       6  \n",
       "Vampires Suck              3,233             12202831                    3233  \n",
       "The Road                     396              1502231                     111  \n",
       "Rob Roy                    1,885              2023272                     133  \n",
       "Sugar                         51                60140                      11  "
      ]
     },
     "execution_count": 9,
     "metadata": {},
     "output_type": "execute_result"
    }
   ],
   "source": [
    "df['Lifetime_gross'] = df['Lifetime_gross'].str.lstrip('$').str.replace(',','')\n",
    "df['OpeningWeekend_gross'] = df['OpeningWeekend_gross'].str.lstrip('$').str.replace(',','')\n",
    "df['openingWeekend_theatres'] = df['openingWeekend_theatres'].str.replace(',','')\n",
    "\n",
    "df.head()\n"
   ]
  },
  {
   "cell_type": "code",
   "execution_count": 10,
   "metadata": {
    "collapsed": false
   },
   "outputs": [
    {
     "data": {
      "text/plain": [
       "Genre                       object\n",
       "Rank                        object\n",
       "Movie_url                   object\n",
       "Studio                      object\n",
       "Lifetime_gross             float64\n",
       "Lifetime-theatres           object\n",
       "OpeningWeekend_gross       float64\n",
       "openingWeekend_theatres    float64\n",
       "title                       object\n",
       "dtype: object"
      ]
     },
     "execution_count": 10,
     "metadata": {},
     "output_type": "execute_result"
    }
   ],
   "source": [
    "import numpy as np\n",
    "\n",
    "df = df.replace('n/a', np.nan)\n",
    "df = df.dropna(subset=['Lifetime_gross'])\n",
    "df = df.dropna(subset=['OpeningWeekend_gross'])\n",
    "df = df.dropna(subset=['openingWeekend_theatres'])\n",
    "df.dtypes\n",
    "df['title'] = df.index\n",
    "\n",
    "f = lambda x: float(x) \n",
    "df['Lifetime_gross'] = df['Lifetime_gross'].apply(f)\n",
    "df['OpeningWeekend_gross'] = df['OpeningWeekend_gross'].apply(f)\n",
    "df['openingWeekend_theatres'] = df['openingWeekend_theatres'].apply(f)\n",
    "\n",
    "df.dtypes"
   ]
  },
  {
   "cell_type": "code",
   "execution_count": 11,
   "metadata": {
    "collapsed": false
   },
   "outputs": [
    {
     "data": {
      "text/plain": [
       "(5711, 4)"
      ]
     },
     "execution_count": 11,
     "metadata": {},
     "output_type": "execute_result"
    }
   ],
   "source": [
    "movie_df = df[['title', 'Lifetime_gross', 'OpeningWeekend_gross', 'openingWeekend_theatres']]\n",
    "movie_df.shape"
   ]
  },
  {
   "cell_type": "markdown",
   "metadata": {},
   "source": [
    "Read movie reviews data from metacritic_movies.json file and read into a pandas dataframe."
   ]
  },
  {
   "cell_type": "code",
   "execution_count": 12,
   "metadata": {
    "collapsed": false
   },
   "outputs": [
    {
     "data": {
      "text/html": [
       "<div>\n",
       "<table border=\"1\" class=\"dataframe\">\n",
       "  <thead>\n",
       "    <tr style=\"text-align: right;\">\n",
       "      <th></th>\n",
       "      <th>complete</th>\n",
       "      <th>director</th>\n",
       "      <th>genre</th>\n",
       "      <th>metacritic_page</th>\n",
       "      <th>metascore</th>\n",
       "      <th>num_critic_reviews</th>\n",
       "      <th>num_user_ratings</th>\n",
       "      <th>num_user_reviews</th>\n",
       "      <th>rating</th>\n",
       "      <th>release_date</th>\n",
       "      <th>runtime_minutes</th>\n",
       "      <th>studio</th>\n",
       "      <th>title</th>\n",
       "      <th>user_score</th>\n",
       "      <th>year</th>\n",
       "    </tr>\n",
       "  </thead>\n",
       "  <tbody>\n",
       "    <tr>\n",
       "      <th>100030</th>\n",
       "      <td>True</td>\n",
       "      <td>Elio Petri</td>\n",
       "      <td>[Drama, Crime]</td>\n",
       "      <td>/movie/investigation-of-a-citizen-above-suspic...</td>\n",
       "      <td>89</td>\n",
       "      <td>[10, 0, 0, 10]</td>\n",
       "      <td>8</td>\n",
       "      <td>[3, 0, 0, 3]</td>\n",
       "      <td>R</td>\n",
       "      <td>2003-04-04</td>\n",
       "      <td>112</td>\n",
       "      <td>Columbia Pictures</td>\n",
       "      <td>Investigation of a Citizen Above Suspicion [re...</td>\n",
       "      <td>8</td>\n",
       "      <td>2003</td>\n",
       "    </tr>\n",
       "    <tr>\n",
       "      <th>10007</th>\n",
       "      <td>False</td>\n",
       "      <td>Isaac Florentine</td>\n",
       "      <td>[Action, Thriller, Crime]</td>\n",
       "      <td>/movie/ninja-shadow-of-a-tear</td>\n",
       "      <td>None</td>\n",
       "      <td>[1, 0, 0, 1]</td>\n",
       "      <td>6</td>\n",
       "      <td>[1, 1, 0, 2]</td>\n",
       "      <td>R</td>\n",
       "      <td>2013-12-31</td>\n",
       "      <td>95</td>\n",
       "      <td>Millennium Entertainment</td>\n",
       "      <td>Ninja: Shadow of a Tear</td>\n",
       "      <td>7.7</td>\n",
       "      <td>2013</td>\n",
       "    </tr>\n",
       "    <tr>\n",
       "      <th>100087</th>\n",
       "      <td>True</td>\n",
       "      <td>Lawrence Kasdan</td>\n",
       "      <td>[Drama, Thriller, Crime]</td>\n",
       "      <td>/movie/body-heat</td>\n",
       "      <td>78</td>\n",
       "      <td>[8, 2, 0, 10]</td>\n",
       "      <td>31</td>\n",
       "      <td>[5, 0, 1, 6]</td>\n",
       "      <td>R</td>\n",
       "      <td>1981-08-28</td>\n",
       "      <td>113</td>\n",
       "      <td>Warner Bros. Pictures</td>\n",
       "      <td>Body Heat</td>\n",
       "      <td>8.8</td>\n",
       "      <td>1981</td>\n",
       "    </tr>\n",
       "    <tr>\n",
       "      <th>100128</th>\n",
       "      <td>False</td>\n",
       "      <td>Nikolaus Geyrhalter</td>\n",
       "      <td>[Documentary]</td>\n",
       "      <td>/movie/our-daily-bread</td>\n",
       "      <td>86</td>\n",
       "      <td>[10, 0, 0, 10]</td>\n",
       "      <td>13</td>\n",
       "      <td>[2, 0, 0, 2]</td>\n",
       "      <td></td>\n",
       "      <td>2006-11-24</td>\n",
       "      <td>92</td>\n",
       "      <td>None</td>\n",
       "      <td>Our Daily Bread</td>\n",
       "      <td>7.7</td>\n",
       "      <td>2006</td>\n",
       "    </tr>\n",
       "    <tr>\n",
       "      <th>10014</th>\n",
       "      <td>False</td>\n",
       "      <td>Michael Taverna</td>\n",
       "      <td>[Horror]</td>\n",
       "      <td>/movie/apartment-1303-3d</td>\n",
       "      <td>None</td>\n",
       "      <td>[0, 0, 1, 1]</td>\n",
       "      <td>6</td>\n",
       "      <td>[0, 0, 2, 2]</td>\n",
       "      <td>R</td>\n",
       "      <td>2013-07-25</td>\n",
       "      <td>85</td>\n",
       "      <td>Gravitas Ventures</td>\n",
       "      <td>Apartment 1303 3D</td>\n",
       "      <td>2.2</td>\n",
       "      <td>2013</td>\n",
       "    </tr>\n",
       "  </tbody>\n",
       "</table>\n",
       "</div>"
      ],
      "text/plain": [
       "       complete             director                      genre  \\\n",
       "100030     True           Elio Petri             [Drama, Crime]   \n",
       "10007     False     Isaac Florentine  [Action, Thriller, Crime]   \n",
       "100087     True      Lawrence Kasdan   [Drama, Thriller, Crime]   \n",
       "100128    False  Nikolaus Geyrhalter              [Documentary]   \n",
       "10014     False      Michael Taverna                   [Horror]   \n",
       "\n",
       "                                          metacritic_page metascore  \\\n",
       "100030  /movie/investigation-of-a-citizen-above-suspic...        89   \n",
       "10007                       /movie/ninja-shadow-of-a-tear      None   \n",
       "100087                                   /movie/body-heat        78   \n",
       "100128                             /movie/our-daily-bread        86   \n",
       "10014                            /movie/apartment-1303-3d      None   \n",
       "\n",
       "       num_critic_reviews num_user_ratings num_user_reviews rating  \\\n",
       "100030     [10, 0, 0, 10]                8     [3, 0, 0, 3]      R   \n",
       "10007        [1, 0, 0, 1]                6     [1, 1, 0, 2]      R   \n",
       "100087      [8, 2, 0, 10]               31     [5, 0, 1, 6]      R   \n",
       "100128     [10, 0, 0, 10]               13     [2, 0, 0, 2]          \n",
       "10014        [0, 0, 1, 1]                6     [0, 0, 2, 2]      R   \n",
       "\n",
       "       release_date runtime_minutes                    studio  \\\n",
       "100030   2003-04-04             112         Columbia Pictures   \n",
       "10007    2013-12-31              95  Millennium Entertainment   \n",
       "100087   1981-08-28             113     Warner Bros. Pictures   \n",
       "100128   2006-11-24              92                      None   \n",
       "10014    2013-07-25              85         Gravitas Ventures   \n",
       "\n",
       "                                                    title user_score  year  \n",
       "100030  Investigation of a Citizen Above Suspicion [re...          8  2003  \n",
       "10007                             Ninja: Shadow of a Tear        7.7  2013  \n",
       "100087                                          Body Heat        8.8  1981  \n",
       "100128                                    Our Daily Bread        7.7  2006  \n",
       "10014                                   Apartment 1303 3D        2.2  2013  "
      ]
     },
     "execution_count": 12,
     "metadata": {},
     "output_type": "execute_result"
    }
   ],
   "source": [
    "metafile = 'metacritic_movies.json'\n",
    "meta_df = pd.read_json(metafile).T\n",
    "meta_df.columns\n",
    "meta_df.head()"
   ]
  },
  {
   "cell_type": "code",
   "execution_count": 13,
   "metadata": {
    "collapsed": false
   },
   "outputs": [
    {
     "data": {
      "text/plain": [
       "(4438, 3)"
      ]
     },
     "execution_count": 13,
     "metadata": {},
     "output_type": "execute_result"
    }
   ],
   "source": [
    "good_columns = ([u'title', u'num_critic_reviews', u'metascore'])\n",
    "reviews_df = meta_df[good_columns]\n",
    "reviews_df.shape"
   ]
  },
  {
   "cell_type": "markdown",
   "metadata": {},
   "source": [
    "lightly_processed_title is a function that takes a string and removes blank spaces, converts all the letters into lower case.\n",
    "\n",
    "We apply this function to the titles column of both movie_df and reviews_df. Then, we merge these two data frames on title."
   ]
  },
  {
   "cell_type": "code",
   "execution_count": 14,
   "metadata": {
    "collapsed": false
   },
   "outputs": [
    {
     "name": "stderr",
     "output_type": "stream",
     "text": [
      "//anaconda/lib/python2.7/site-packages/pandas/core/indexing.py:420: SettingWithCopyWarning: \n",
      "A value is trying to be set on a copy of a slice from a DataFrame.\n",
      "Try using .loc[row_indexer,col_indexer] = value instead\n",
      "\n",
      "See the caveats in the documentation: http://pandas.pydata.org/pandas-docs/stable/indexing.html#indexing-view-versus-copy\n",
      "  self.obj[item] = s\n",
      "//anaconda/lib/python2.7/site-packages/pandas/core/indexing.py:115: SettingWithCopyWarning: \n",
      "A value is trying to be set on a copy of a slice from a DataFrame\n",
      "\n",
      "See the caveats in the documentation: http://pandas.pydata.org/pandas-docs/stable/indexing.html#indexing-view-versus-copy\n",
      "  self._setitem_with_indexer(indexer, value)\n",
      "/anaconda/lib/python2.7/site-packages/ipykernel/__main__.py:8: SettingWithCopyWarning: \n",
      "A value is trying to be set on a copy of a slice from a DataFrame\n",
      "\n",
      "See the caveats in the documentation: http://pandas.pydata.org/pandas-docs/stable/indexing.html#indexing-view-versus-copy\n"
     ]
    },
    {
     "data": {
      "text/plain": [
       "(2317, 6)"
      ]
     },
     "execution_count": 14,
     "metadata": {},
     "output_type": "execute_result"
    }
   ],
   "source": [
    "def lightly_processed_title(title):\n",
    "    title = title.replace(' ','').lower()\n",
    "    charlist = list(title)\n",
    "    charlist = [char for char in charlist if char.isalnum()]\n",
    "    return ''.join(charlist)\n",
    "\n",
    "movie_df.loc[:,'title'] = movie_df.loc[:,'title'].apply(lightly_processed_title)\n",
    "reviews_df.loc[:,'title'] = reviews_df.loc[:,'title'].apply(lightly_processed_title)\n",
    "\n",
    "regression_df = pd.merge(movie_df, reviews_df, on='title', how='inner')\n",
    "regression_df.shape"
   ]
  },
  {
   "cell_type": "markdown",
   "metadata": {},
   "source": [
    "Critics reviews column in regression_df (num_critics_reviews) is a list of 4 values and I used replace and split functions on this column to store each value in a different column. \n",
    "\n",
    "\n",
    "The 4 new columns are:\n",
    "critics_positive\n",
    "critics_neutral\n",
    "critics_negative\n",
    "critics_total_reviews"
   ]
  },
  {
   "cell_type": "code",
   "execution_count": 15,
   "metadata": {
    "collapsed": false
   },
   "outputs": [
    {
     "data": {
      "text/html": [
       "<div>\n",
       "<table border=\"1\" class=\"dataframe\">\n",
       "  <thead>\n",
       "    <tr style=\"text-align: right;\">\n",
       "      <th></th>\n",
       "      <th>title</th>\n",
       "      <th>Lifetime_gross</th>\n",
       "      <th>OpeningWeekend_gross</th>\n",
       "      <th>openingWeekend_theatres</th>\n",
       "      <th>num_critic_reviews</th>\n",
       "      <th>metascore</th>\n",
       "      <th>critics_positive</th>\n",
       "      <th>critics_neutral</th>\n",
       "      <th>critics_negative</th>\n",
       "      <th>critics_total_reviews</th>\n",
       "    </tr>\n",
       "  </thead>\n",
       "  <tbody>\n",
       "    <tr>\n",
       "      <th>0</th>\n",
       "      <td>theroad</td>\n",
       "      <td>8117000</td>\n",
       "      <td>1502231</td>\n",
       "      <td>111</td>\n",
       "      <td>[26, 6, 1, 33]</td>\n",
       "      <td>64</td>\n",
       "      <td>26</td>\n",
       "      <td>6</td>\n",
       "      <td>1</td>\n",
       "      <td>33</td>\n",
       "    </tr>\n",
       "    <tr>\n",
       "      <th>1</th>\n",
       "      <td>theroad</td>\n",
       "      <td>8117000</td>\n",
       "      <td>1502231</td>\n",
       "      <td>111</td>\n",
       "      <td>[7, 2, 0, 9]</td>\n",
       "      <td>71</td>\n",
       "      <td>7</td>\n",
       "      <td>2</td>\n",
       "      <td>0</td>\n",
       "      <td>9</td>\n",
       "    </tr>\n",
       "    <tr>\n",
       "      <th>2</th>\n",
       "      <td>thecrazies</td>\n",
       "      <td>39123589</td>\n",
       "      <td>16067552</td>\n",
       "      <td>2476</td>\n",
       "      <td>[14, 13, 3, 30]</td>\n",
       "      <td>55</td>\n",
       "      <td>14</td>\n",
       "      <td>13</td>\n",
       "      <td>3</td>\n",
       "      <td>30</td>\n",
       "    </tr>\n",
       "    <tr>\n",
       "      <th>3</th>\n",
       "      <td>blade</td>\n",
       "      <td>70087718</td>\n",
       "      <td>17073856</td>\n",
       "      <td>2322</td>\n",
       "      <td>[8, 7, 8, 23]</td>\n",
       "      <td>45</td>\n",
       "      <td>8</td>\n",
       "      <td>7</td>\n",
       "      <td>8</td>\n",
       "      <td>23</td>\n",
       "    </tr>\n",
       "    <tr>\n",
       "      <th>4</th>\n",
       "      <td>domesticdisturbance</td>\n",
       "      <td>45246095</td>\n",
       "      <td>14033112</td>\n",
       "      <td>2910</td>\n",
       "      <td>[4, 5, 18, 27]</td>\n",
       "      <td>29</td>\n",
       "      <td>4</td>\n",
       "      <td>5</td>\n",
       "      <td>18</td>\n",
       "      <td>27</td>\n",
       "    </tr>\n",
       "    <tr>\n",
       "      <th>5</th>\n",
       "      <td>paul</td>\n",
       "      <td>37412945</td>\n",
       "      <td>13043310</td>\n",
       "      <td>2802</td>\n",
       "      <td>[21, 14, 2, 37]</td>\n",
       "      <td>57</td>\n",
       "      <td>21</td>\n",
       "      <td>14</td>\n",
       "      <td>2</td>\n",
       "      <td>37</td>\n",
       "    </tr>\n",
       "    <tr>\n",
       "      <th>6</th>\n",
       "      <td>supersizeme</td>\n",
       "      <td>11536423</td>\n",
       "      <td>516641</td>\n",
       "      <td>41</td>\n",
       "      <td>[32, 4, 1, 37]</td>\n",
       "      <td>73</td>\n",
       "      <td>32</td>\n",
       "      <td>4</td>\n",
       "      <td>1</td>\n",
       "      <td>37</td>\n",
       "    </tr>\n",
       "    <tr>\n",
       "      <th>7</th>\n",
       "      <td>brooklynsfinest</td>\n",
       "      <td>27163593</td>\n",
       "      <td>13350299</td>\n",
       "      <td>1936</td>\n",
       "      <td>[6, 24, 3, 33]</td>\n",
       "      <td>43</td>\n",
       "      <td>6</td>\n",
       "      <td>24</td>\n",
       "      <td>3</td>\n",
       "      <td>33</td>\n",
       "    </tr>\n",
       "    <tr>\n",
       "      <th>8</th>\n",
       "      <td>attacktheblock</td>\n",
       "      <td>1024175</td>\n",
       "      <td>139506</td>\n",
       "      <td>8</td>\n",
       "      <td>[25, 1, 1, 27]</td>\n",
       "      <td>75</td>\n",
       "      <td>25</td>\n",
       "      <td>1</td>\n",
       "      <td>1</td>\n",
       "      <td>27</td>\n",
       "    </tr>\n",
       "    <tr>\n",
       "      <th>9</th>\n",
       "      <td>thetexaschainsawmassacre</td>\n",
       "      <td>80571655</td>\n",
       "      <td>28094014</td>\n",
       "      <td>3016</td>\n",
       "      <td>[5, 15, 13, 33]</td>\n",
       "      <td>38</td>\n",
       "      <td>5</td>\n",
       "      <td>15</td>\n",
       "      <td>13</td>\n",
       "      <td>33</td>\n",
       "    </tr>\n",
       "  </tbody>\n",
       "</table>\n",
       "</div>"
      ],
      "text/plain": [
       "                      title  Lifetime_gross  OpeningWeekend_gross  \\\n",
       "0                   theroad         8117000               1502231   \n",
       "1                   theroad         8117000               1502231   \n",
       "2                thecrazies        39123589              16067552   \n",
       "3                     blade        70087718              17073856   \n",
       "4       domesticdisturbance        45246095              14033112   \n",
       "5                      paul        37412945              13043310   \n",
       "6               supersizeme        11536423                516641   \n",
       "7           brooklynsfinest        27163593              13350299   \n",
       "8            attacktheblock         1024175                139506   \n",
       "9  thetexaschainsawmassacre        80571655              28094014   \n",
       "\n",
       "   openingWeekend_theatres num_critic_reviews metascore  critics_positive  \\\n",
       "0                      111     [26, 6, 1, 33]        64                26   \n",
       "1                      111       [7, 2, 0, 9]        71                 7   \n",
       "2                     2476    [14, 13, 3, 30]        55                14   \n",
       "3                     2322      [8, 7, 8, 23]        45                 8   \n",
       "4                     2910     [4, 5, 18, 27]        29                 4   \n",
       "5                     2802    [21, 14, 2, 37]        57                21   \n",
       "6                       41     [32, 4, 1, 37]        73                32   \n",
       "7                     1936     [6, 24, 3, 33]        43                 6   \n",
       "8                        8     [25, 1, 1, 27]        75                25   \n",
       "9                     3016    [5, 15, 13, 33]        38                 5   \n",
       "\n",
       "   critics_neutral  critics_negative  critics_total_reviews  \n",
       "0                6                 1                     33  \n",
       "1                2                 0                      9  \n",
       "2               13                 3                     30  \n",
       "3                7                 8                     23  \n",
       "4                5                18                     27  \n",
       "5               14                 2                     37  \n",
       "6                4                 1                     37  \n",
       "7               24                 3                     33  \n",
       "8                1                 1                     27  \n",
       "9               15                13                     33  "
      ]
     },
     "execution_count": 15,
     "metadata": {},
     "output_type": "execute_result"
    }
   ],
   "source": [
    "regression_df['num_critic_reviews'] = regression_df['num_critic_reviews'].apply(lambda x: str(x))\n",
    "regression_df['critics_positive'] = regression_df['num_critic_reviews'].apply(lambda x: x.replace('[','').split(',')[0])\n",
    "regression_df['critics_neutral'] = regression_df['num_critic_reviews'].apply(lambda x: x.split(',')[1])\n",
    "regression_df['critics_negative'] = regression_df['num_critic_reviews'].apply(lambda x: x.split(',')[2])\n",
    "regression_df['critics_total_reviews'] = regression_df['num_critic_reviews'].apply(lambda x: x.replace(']','').split(',')[3])\n",
    "regression_df.dtypes\n",
    "\n",
    "regression_df['critics_positive'] = regression_df['critics_positive'].apply(lambda x: int(x))\n",
    "regression_df['critics_neutral'] = regression_df['critics_neutral'].apply(lambda x: int(x))\n",
    "regression_df['critics_negative'] = regression_df['critics_negative'].apply(lambda x: int(x))\n",
    "regression_df['critics_total_reviews'] = regression_df['critics_total_reviews'].apply(lambda x: int(x))\n",
    "regression_df.head(10)"
   ]
  },
  {
   "cell_type": "markdown",
   "metadata": {},
   "source": [
    "Calculated log Lifetime_gross and predicted the regression models with log_Lifetime_gross to see if it predicts a better model."
   ]
  },
  {
   "cell_type": "code",
   "execution_count": 101,
   "metadata": {
    "collapsed": false
   },
   "outputs": [
    {
     "data": {
      "text/html": [
       "<div>\n",
       "<table border=\"1\" class=\"dataframe\">\n",
       "  <thead>\n",
       "    <tr style=\"text-align: right;\">\n",
       "      <th></th>\n",
       "      <th>title</th>\n",
       "      <th>Lifetime_gross</th>\n",
       "      <th>OpeningWeekend_gross</th>\n",
       "      <th>openingWeekend_theatres</th>\n",
       "      <th>num_critic_reviews</th>\n",
       "      <th>metascore</th>\n",
       "      <th>critics_positive</th>\n",
       "      <th>critics_neutral</th>\n",
       "      <th>critics_negative</th>\n",
       "      <th>critics_total_reviews</th>\n",
       "      <th>log_Lifetime_gross</th>\n",
       "      <th>log_OpeningWeekend_gross</th>\n",
       "      <th>critics_positive_percentage</th>\n",
       "      <th>critics_negative_percentage</th>\n",
       "      <th>critics_neutral_percentage</th>\n",
       "    </tr>\n",
       "  </thead>\n",
       "  <tbody>\n",
       "    <tr>\n",
       "      <th>0</th>\n",
       "      <td>theroad</td>\n",
       "      <td>8117000</td>\n",
       "      <td>1502231</td>\n",
       "      <td>111</td>\n",
       "      <td>[26, 6, 1, 33]</td>\n",
       "      <td>64</td>\n",
       "      <td>26</td>\n",
       "      <td>6</td>\n",
       "      <td>1</td>\n",
       "      <td>33</td>\n",
       "      <td>15.909471</td>\n",
       "      <td>14.222462</td>\n",
       "      <td>0.787879</td>\n",
       "      <td>0.030303</td>\n",
       "      <td>0.181818</td>\n",
       "    </tr>\n",
       "    <tr>\n",
       "      <th>1</th>\n",
       "      <td>theroad</td>\n",
       "      <td>8117000</td>\n",
       "      <td>1502231</td>\n",
       "      <td>111</td>\n",
       "      <td>[7, 2, 0, 9]</td>\n",
       "      <td>71</td>\n",
       "      <td>7</td>\n",
       "      <td>2</td>\n",
       "      <td>0</td>\n",
       "      <td>9</td>\n",
       "      <td>15.909471</td>\n",
       "      <td>14.222462</td>\n",
       "      <td>0.777778</td>\n",
       "      <td>0.000000</td>\n",
       "      <td>0.222222</td>\n",
       "    </tr>\n",
       "    <tr>\n",
       "      <th>2</th>\n",
       "      <td>thecrazies</td>\n",
       "      <td>39123589</td>\n",
       "      <td>16067552</td>\n",
       "      <td>2476</td>\n",
       "      <td>[14, 13, 3, 30]</td>\n",
       "      <td>55</td>\n",
       "      <td>14</td>\n",
       "      <td>13</td>\n",
       "      <td>3</td>\n",
       "      <td>30</td>\n",
       "      <td>17.482236</td>\n",
       "      <td>16.592312</td>\n",
       "      <td>0.466667</td>\n",
       "      <td>0.100000</td>\n",
       "      <td>0.433333</td>\n",
       "    </tr>\n",
       "    <tr>\n",
       "      <th>3</th>\n",
       "      <td>blade</td>\n",
       "      <td>70087718</td>\n",
       "      <td>17073856</td>\n",
       "      <td>2322</td>\n",
       "      <td>[8, 7, 8, 23]</td>\n",
       "      <td>45</td>\n",
       "      <td>8</td>\n",
       "      <td>7</td>\n",
       "      <td>8</td>\n",
       "      <td>23</td>\n",
       "      <td>18.065258</td>\n",
       "      <td>16.653059</td>\n",
       "      <td>0.347826</td>\n",
       "      <td>0.347826</td>\n",
       "      <td>0.304348</td>\n",
       "    </tr>\n",
       "    <tr>\n",
       "      <th>4</th>\n",
       "      <td>domesticdisturbance</td>\n",
       "      <td>45246095</td>\n",
       "      <td>14033112</td>\n",
       "      <td>2910</td>\n",
       "      <td>[4, 5, 18, 27]</td>\n",
       "      <td>29</td>\n",
       "      <td>4</td>\n",
       "      <td>5</td>\n",
       "      <td>18</td>\n",
       "      <td>27</td>\n",
       "      <td>17.627627</td>\n",
       "      <td>16.456930</td>\n",
       "      <td>0.148148</td>\n",
       "      <td>0.666667</td>\n",
       "      <td>0.185185</td>\n",
       "    </tr>\n",
       "  </tbody>\n",
       "</table>\n",
       "</div>"
      ],
      "text/plain": [
       "                 title  Lifetime_gross  OpeningWeekend_gross  \\\n",
       "0              theroad         8117000               1502231   \n",
       "1              theroad         8117000               1502231   \n",
       "2           thecrazies        39123589              16067552   \n",
       "3                blade        70087718              17073856   \n",
       "4  domesticdisturbance        45246095              14033112   \n",
       "\n",
       "   openingWeekend_theatres num_critic_reviews metascore  critics_positive  \\\n",
       "0                      111     [26, 6, 1, 33]        64                26   \n",
       "1                      111       [7, 2, 0, 9]        71                 7   \n",
       "2                     2476    [14, 13, 3, 30]        55                14   \n",
       "3                     2322      [8, 7, 8, 23]        45                 8   \n",
       "4                     2910     [4, 5, 18, 27]        29                 4   \n",
       "\n",
       "   critics_neutral  critics_negative  critics_total_reviews  \\\n",
       "0                6                 1                     33   \n",
       "1                2                 0                      9   \n",
       "2               13                 3                     30   \n",
       "3                7                 8                     23   \n",
       "4                5                18                     27   \n",
       "\n",
       "   log_Lifetime_gross  log_OpeningWeekend_gross  critics_positive_percentage  \\\n",
       "0           15.909471                 14.222462                     0.787879   \n",
       "1           15.909471                 14.222462                     0.777778   \n",
       "2           17.482236                 16.592312                     0.466667   \n",
       "3           18.065258                 16.653059                     0.347826   \n",
       "4           17.627627                 16.456930                     0.148148   \n",
       "\n",
       "   critics_negative_percentage  critics_neutral_percentage  \n",
       "0                     0.030303                    0.181818  \n",
       "1                     0.000000                    0.222222  \n",
       "2                     0.100000                    0.433333  \n",
       "3                     0.347826                    0.304348  \n",
       "4                     0.666667                    0.185185  "
      ]
     },
     "execution_count": 101,
     "metadata": {},
     "output_type": "execute_result"
    }
   ],
   "source": [
    "import math\n",
    "\n",
    "regression_df['log_Lifetime_gross'] = regression_df['Lifetime_gross'].apply(lambda x: math.log(x))\n",
    "regression_df['log_OpeningWeekend_gross'] = regression_df['OpeningWeekend_gross'].apply(lambda x: math.log(x))\n",
    "regression_df['critics_positive_percentage'] = regression_df.critics_positive / regression_df.critics_total_reviews\n",
    "regression_df['critics_negative_percentage'] = regression_df.critics_negative / regression_df.critics_total_reviews\n",
    "regression_df['critics_neutral_percentage'] = regression_df.critics_neutral / regression_df.critics_total_reviews\n",
    "\n",
    "regression_df = regression_df.dropna(subset=['critics_positive_percentage'])\n",
    "regression_df = regression_df.dropna(subset=['critics_negative_percentage'])\n",
    "\n",
    "regression_df.head()"
   ]
  },
  {
   "cell_type": "markdown",
   "metadata": {},
   "source": [
    "## Model1:\n",
    "\n",
    "Features:\n",
    "    \n",
    "    OpeningWeekend_gross\n",
    "    \n",
    "Response:\n",
    "\n",
    "    Lifetime_gross"
   ]
  },
  {
   "cell_type": "code",
   "execution_count": 117,
   "metadata": {
    "collapsed": false
   },
   "outputs": [
    {
     "name": "stdout",
     "output_type": "stream",
     "text": [
      "                            OLS Regression Results                            \n",
      "==============================================================================\n",
      "Dep. Variable:         Lifetime_gross   R-squared:                       0.702\n",
      "Model:                            OLS   Adj. R-squared:                  0.702\n",
      "Method:                 Least Squares   F-statistic:                     5447.\n",
      "Date:                Mon, 08 Feb 2016   Prob (F-statistic):               0.00\n",
      "Time:                        07:27:40   Log-Likelihood:                -43854.\n",
      "No. Observations:                2314   AIC:                         8.771e+04\n",
      "Df Residuals:                    2312   BIC:                         8.772e+04\n",
      "Df Model:                           1                                         \n",
      "Covariance Type:            nonrobust                                         \n",
      "========================================================================================\n",
      "                           coef    std err          t      P>|t|      [95.0% Conf. Int.]\n",
      "----------------------------------------------------------------------------------------\n",
      "Intercept             1.431e+07   1.06e+06     13.510      0.000      1.22e+07  1.64e+07\n",
      "OpeningWeekend_gross     3.0120      0.041     73.807      0.000         2.932     3.092\n",
      "==============================================================================\n",
      "Omnibus:                     2320.498   Durbin-Watson:                   1.843\n",
      "Prob(Omnibus):                  0.000   Jarque-Bera (JB):           178826.795\n",
      "Skew:                           4.721   Prob(JB):                         0.00\n",
      "Kurtosis:                      45.019   Cond. No.                     3.21e+07\n",
      "==============================================================================\n",
      "\n",
      "Warnings:\n",
      "[1] Standard Errors assume that the covariance matrix of the errors is correctly specified.\n",
      "[2] The condition number is large, 3.21e+07. This might indicate that there are\n",
      "strong multicollinearity or other numerical problems.\n"
     ]
    },
    {
     "data": {
      "image/png": "[encoded data removed]",
      "text/plain": [
       "<matplotlib.figure.Figure at 0x11080c8d0>"
      ]
     },
     "metadata": {},
     "output_type": "display_data"
    }
   ],
   "source": [
    "lm = smf.ols('Lifetime_gross ~ OpeningWeekend_gross', data=regression_df)\n",
    "fit1 = lm.fit() \n",
    "\n",
    "print fit1.summary()\n",
    "\n",
    "# Plot fit model with openign weekend gross as predictor\n",
    "fig, ax = plt.subplots()\n",
    "\n",
    "ax.scatter(regression_df['OpeningWeekend_gross'],regression_df['Lifetime_gross'])\n",
    "ax.plot(regression_df['OpeningWeekend_gross'],fit1.predict(exog=dict(OpeningWeekend_gross = regression_df['OpeningWeekend_gross'])), color='green')\n",
    "\n",
    "ax.set_xlabel('Opening weekend gross')\n",
    "ax.set_ylabel('Lifetime gross')\n",
    "plt.savefig('Fit_model_openingweekend_pred ')"
   ]
  },
  {
   "cell_type": "markdown",
   "metadata": {},
   "source": [
    "## Model2:\n",
    "\n",
    "Features:\n",
    "    \n",
    "    OpeningWeekend_gross\n",
    "    critics_positive_percentage\n",
    "    critics_negative_percentage\n",
    "    critics_total_reviews\n",
    "\n",
    "Response:\n",
    "    \n",
    "    Lifetime_gross\n",
    "    "
   ]
  },
  {
   "cell_type": "code",
   "execution_count": 180,
   "metadata": {
    "collapsed": false
   },
   "outputs": [
    {
     "data": {
      "text/html": [
       "<table class=\"simpletable\">\n",
       "<caption>OLS Regression Results</caption>\n",
       "<tr>\n",
       "  <th>Dep. Variable:</th>     <td>Lifetime_gross</td>  <th>  R-squared:         </th> <td>   0.724</td> \n",
       "</tr>\n",
       "<tr>\n",
       "  <th>Model:</th>                   <td>OLS</td>       <th>  Adj. R-squared:    </th> <td>   0.724</td> \n",
       "</tr>\n",
       "<tr>\n",
       "  <th>Method:</th>             <td>Least Squares</td>  <th>  F-statistic:       </th> <td>   1515.</td> \n",
       "</tr>\n",
       "<tr>\n",
       "  <th>Date:</th>             <td>Mon, 08 Feb 2016</td> <th>  Prob (F-statistic):</th>  <td>  0.00</td>  \n",
       "</tr>\n",
       "<tr>\n",
       "  <th>Time:</th>                 <td>11:12:04</td>     <th>  Log-Likelihood:    </th> <td> -43765.</td> \n",
       "</tr>\n",
       "<tr>\n",
       "  <th>No. Observations:</th>      <td>  2314</td>      <th>  AIC:               </th> <td>8.754e+04</td>\n",
       "</tr>\n",
       "<tr>\n",
       "  <th>Df Residuals:</th>          <td>  2309</td>      <th>  BIC:               </th> <td>8.757e+04</td>\n",
       "</tr>\n",
       "<tr>\n",
       "  <th>Df Model:</th>              <td>     4</td>      <th>                     </th>     <td> </td>    \n",
       "</tr>\n",
       "<tr>\n",
       "  <th>Covariance Type:</th>      <td>nonrobust</td>    <th>                     </th>     <td> </td>    \n",
       "</tr>\n",
       "</table>\n",
       "<table class=\"simpletable\">\n",
       "<tr>\n",
       "               <td></td>                  <th>coef</th>     <th>std err</th>      <th>t</th>      <th>P>|t|</th> <th>[95.0% Conf. Int.]</th> \n",
       "</tr>\n",
       "<tr>\n",
       "  <th>Intercept</th>                   <td> 1.043e+06</td> <td> 3.96e+06</td> <td>    0.263</td> <td> 0.792</td> <td>-6.72e+06  8.81e+06</td>\n",
       "</tr>\n",
       "<tr>\n",
       "  <th>OpeningWeekend_gross</th>        <td>    3.0839</td> <td>    0.042</td> <td>   72.921</td> <td> 0.000</td> <td>    3.001     3.167</td>\n",
       "</tr>\n",
       "<tr>\n",
       "  <th>critics_positive_percentage</th> <td> 4.086e+07</td> <td> 4.44e+06</td> <td>    9.208</td> <td> 0.000</td> <td> 3.22e+07  4.96e+07</td>\n",
       "</tr>\n",
       "<tr>\n",
       "  <th>critics_negative_percentage</th> <td>  3.88e+06</td> <td> 6.21e+06</td> <td>    0.625</td> <td> 0.532</td> <td> -8.3e+06  1.61e+07</td>\n",
       "</tr>\n",
       "<tr>\n",
       "  <th>critics_total_reviews</th>       <td>-3.138e+05</td> <td> 9.26e+04</td> <td>   -3.388</td> <td> 0.001</td> <td>-4.95e+05 -1.32e+05</td>\n",
       "</tr>\n",
       "</table>\n",
       "<table class=\"simpletable\">\n",
       "<tr>\n",
       "  <th>Omnibus:</th>       <td>2329.447</td> <th>  Durbin-Watson:     </th>  <td>   1.838</td> \n",
       "</tr>\n",
       "<tr>\n",
       "  <th>Prob(Omnibus):</th>  <td> 0.000</td>  <th>  Jarque-Bera (JB):  </th> <td>199743.172</td>\n",
       "</tr>\n",
       "<tr>\n",
       "  <th>Skew:</th>           <td> 4.706</td>  <th>  Prob(JB):          </th>  <td>    0.00</td> \n",
       "</tr>\n",
       "<tr>\n",
       "  <th>Kurtosis:</th>       <td>47.532</td>  <th>  Cond. No.          </th>  <td>2.50e+08</td> \n",
       "</tr>\n",
       "</table>"
      ],
      "text/plain": [
       "<class 'statsmodels.iolib.summary.Summary'>\n",
       "\"\"\"\n",
       "                            OLS Regression Results                            \n",
       "==============================================================================\n",
       "Dep. Variable:         Lifetime_gross   R-squared:                       0.724\n",
       "Model:                            OLS   Adj. R-squared:                  0.724\n",
       "Method:                 Least Squares   F-statistic:                     1515.\n",
       "Date:                Mon, 08 Feb 2016   Prob (F-statistic):               0.00\n",
       "Time:                        11:12:04   Log-Likelihood:                -43765.\n",
       "No. Observations:                2314   AIC:                         8.754e+04\n",
       "Df Residuals:                    2309   BIC:                         8.757e+04\n",
       "Df Model:                           4                                         \n",
       "Covariance Type:            nonrobust                                         \n",
       "===============================================================================================\n",
       "                                  coef    std err          t      P>|t|      [95.0% Conf. Int.]\n",
       "-----------------------------------------------------------------------------------------------\n",
       "Intercept                    1.043e+06   3.96e+06      0.263      0.792     -6.72e+06  8.81e+06\n",
       "OpeningWeekend_gross            3.0839      0.042     72.921      0.000         3.001     3.167\n",
       "critics_positive_percentage  4.086e+07   4.44e+06      9.208      0.000      3.22e+07  4.96e+07\n",
       "critics_negative_percentage   3.88e+06   6.21e+06      0.625      0.532      -8.3e+06  1.61e+07\n",
       "critics_total_reviews       -3.138e+05   9.26e+04     -3.388      0.001     -4.95e+05 -1.32e+05\n",
       "==============================================================================\n",
       "Omnibus:                     2329.447   Durbin-Watson:                   1.838\n",
       "Prob(Omnibus):                  0.000   Jarque-Bera (JB):           199743.172\n",
       "Skew:                           4.706   Prob(JB):                         0.00\n",
       "Kurtosis:                      47.532   Cond. No.                     2.50e+08\n",
       "==============================================================================\n",
       "\n",
       "Warnings:\n",
       "[1] Standard Errors assume that the covariance matrix of the errors is correctly specified.\n",
       "[2] The condition number is large, 2.5e+08. This might indicate that there are\n",
       "strong multicollinearity or other numerical problems.\n",
       "\"\"\""
      ]
     },
     "execution_count": 180,
     "metadata": {},
     "output_type": "execute_result"
    }
   ],
   "source": [
    "lm = smf.ols('Lifetime_gross ~ OpeningWeekend_gross + critics_positive_percentage + critics_negative_percentage + critics_total_reviews', data=regression_df)\n",
    "fit2 = lm.fit()\n",
    "fit2.summary()\n",
    "\n",
    "# fig, ax = plt.subplots(nrows=1, ncols=1)\n",
    "# ax.scatter(regression_df['Lifetime_gross'],fit2.resid)\n",
    "# ax.annotate(' Avatar', xy=(760507625,500e6))\n",
    "# ax.annotate(' Titanic', xy=(658672302,550e6))\n",
    "# ax.set_xlabel('Actual Value (millions)')\n",
    "# ax.set_ylabel('Residuals')\n",
    "# ax.set_title('Actual Lifeitme gross vs Residuals')\n",
    "\n",
    "# ax.axhline(y=0, xmin=0, xmax=10)\n",
    "# plt.savefig(\"Actual_lifetime_gross(openingWeekend)_vs_residuals\")"
   ]
  },
  {
   "cell_type": "markdown",
   "metadata": {},
   "source": [
    "## Model3:\n",
    "\n",
    "Features:\n",
    "    \n",
    "    log_OpeningWeekend_gross\n",
    "    critics_positive_percentage\n",
    "    critics_negative_percentage\n",
    "    critics_total_reviews\n",
    "    \n",
    "Response:\n",
    "    \n",
    "    log_Lifetime_gross"
   ]
  },
  {
   "cell_type": "code",
   "execution_count": 200,
   "metadata": {
    "collapsed": false
   },
   "outputs": [
    {
     "name": "stdout",
     "output_type": "stream",
     "text": [
      "                            OLS Regression Results                            \n",
      "==============================================================================\n",
      "Dep. Variable:     log_Lifetime_gross   R-squared:                       0.810\n",
      "Model:                            OLS   Adj. R-squared:                  0.810\n",
      "Method:                 Least Squares   F-statistic:                     2459.\n",
      "Date:                Mon, 08 Feb 2016   Prob (F-statistic):               0.00\n",
      "Time:                        13:17:48   Log-Likelihood:                -3223.4\n",
      "No. Observations:                2314   AIC:                             6457.\n",
      "Df Residuals:                    2309   BIC:                             6486.\n",
      "Df Model:                           4                                         \n",
      "Covariance Type:            nonrobust                                         \n",
      "===============================================================================================\n",
      "                                  coef    std err          t      P>|t|      [95.0% Conf. Int.]\n",
      "-----------------------------------------------------------------------------------------------\n",
      "Intercept                       3.8881      0.153     25.439      0.000         3.588     4.188\n",
      "log_OpeningWeekend_gross        0.7640      0.009     88.974      0.000         0.747     0.781\n",
      "critics_positive_percentage     1.8046      0.111     16.222      0.000         1.586     2.023\n",
      "critics_negative_percentage     0.5161      0.152      3.384      0.001         0.217     0.815\n",
      "critics_total_reviews           0.0168      0.002      7.328      0.000         0.012     0.021\n",
      "==============================================================================\n",
      "Omnibus:                      468.281   Durbin-Watson:                   1.941\n",
      "Prob(Omnibus):                  0.000   Jarque-Bera (JB):             1507.991\n",
      "Skew:                           1.007   Prob(JB):                         0.00\n",
      "Kurtosis:                       6.403   Cond. No.                         335.\n",
      "==============================================================================\n",
      "\n",
      "Warnings:\n",
      "[1] Standard Errors assume that the covariance matrix of the errors is correctly specified.\n"
     ]
    },
    {
     "data": {
      "image/png": "[encoded data removed]",
      "text/plain": [
       "<matplotlib.figure.Figure at 0x111767b50>"
      ]
     },
     "metadata": {},
     "output_type": "display_data"
    }
   ],
   "source": [
    "lm = smf.ols('log_Lifetime_gross ~ log_OpeningWeekend_gross + critics_positive_percentage + critics_negative_percentage + critics_total_reviews', data=regression_df)\n",
    "fit3 = lm.fit()\n",
    "print fit3.summary()\n",
    "\n",
    "fig, ax = plt.subplots(nrows=1, ncols=1)\n",
    "ax.scatter(regression_df['log_Lifetime_gross'],fit3.resid)\n",
    "ax.annotate(' Avatar', xy=(20.305737,3.7))\n",
    "ax.annotate(' Titanic', xy=(20.44,5))\n",
    "ax.annotate('Storage24', xy=(2, -2.3))\n",
    "ax.set_xlabel('Actual Lifetime gross (log)')\n",
    "ax.set_ylabel('Residuals')\n",
    "ax.set_title('Actual log Lifetime gross(without theatres) vs Residuals')\n",
    "\n",
    "ax.axhline(y=0, xmin=0, xmax=10, color='green')\n",
    "plt.savefig('Actual_log_Lifetime_(openingWeekend_and_critics)_vs_Residuals')"
   ]
  },
  {
   "cell_type": "markdown",
   "metadata": {},
   "source": [
    "## Model 4:\n",
    "\n",
    "Features:\n",
    "    \n",
    "    log_OpeningWeekend_gross\n",
    "    openingWeekend_theatres\n",
    "    critics_positive_percentage\n",
    "    critics_negative_percentage\n",
    "    critics_total_reviews\n",
    "    \n",
    "Response:\n",
    "\n",
    "    log_Lifetime_gross"
   ]
  },
  {
   "cell_type": "code",
   "execution_count": 201,
   "metadata": {
    "collapsed": false
   },
   "outputs": [
    {
     "data": {
      "image/png": "[encoded data removed]",
      "text/plain": [
       "<matplotlib.figure.Figure at 0x11063e490>"
      ]
     },
     "metadata": {},
     "output_type": "display_data"
    }
   ],
   "source": [
    "lm = smf.ols('log_Lifetime_gross ~ log_OpeningWeekend_gross + critics_positive_percentage + critics_negative_percentage + critics_total_reviews+ openingWeekend_theatres', data=regression_df)\n",
    "fit4 = lm.fit()\n",
    "# print fit4.summary()\n",
    "\n",
    "fig, ax = plt.subplots(nrows=1, ncols=1)\n",
    "ax.scatter(regression_df['log_Lifetime_gross'],fit4.resid)\n",
    "ax.annotate(' Avatar', xy=(20.305737,3.7))\n",
    "ax.annotate(' Titanic', xy=(20.44,5))\n",
    "ax.annotate('Storage24', xy=(2, -2.3))\n",
    "ax.set_xlabel('Actual Lifetime gross (log)')\n",
    "ax.set_ylabel('Residuals')\n",
    "ax.set_title('Actual log Lifetime gross(with theatres) vs Residuals')\n",
    "\n",
    "ax.axhline(y=0, xmin=0, xmax=10, color='green')\n",
    "\n",
    "plt.savefig('Actual_log_Lifetime_(openingWeekend_critics_openingTheatres)_vs_Residuals')"
   ]
  },
  {
   "cell_type": "markdown",
   "metadata": {},
   "source": [
    "StandardScaler is a sklearn module used to normalize values by removing the mean and scaling to unit variance. It returns a numpy array of normalized values."
   ]
  },
  {
   "cell_type": "code",
   "execution_count": 111,
   "metadata": {
    "collapsed": false
   },
   "outputs": [
    {
     "name": "stdout",
     "output_type": "stream",
     "text": [
      "(2314, 15)\n"
     ]
    },
    {
     "data": {
      "text/html": [
       "<div>\n",
       "<table border=\"1\" class=\"dataframe\">\n",
       "  <thead>\n",
       "    <tr style=\"text-align: right;\">\n",
       "      <th></th>\n",
       "      <th>Lifetime_gross</th>\n",
       "      <th>OpeningWeekend_gross</th>\n",
       "      <th>title</th>\n",
       "      <th>critics_positive_percentage</th>\n",
       "      <th>critics_negative_percentage</th>\n",
       "      <th>critics_total_reviews</th>\n",
       "    </tr>\n",
       "  </thead>\n",
       "  <tbody>\n",
       "    <tr>\n",
       "      <th>0</th>\n",
       "      <td>-0.692625</td>\n",
       "      <td>-0.657026</td>\n",
       "      <td>theroad</td>\n",
       "      <td>0.787879</td>\n",
       "      <td>0.030303</td>\n",
       "      <td>33</td>\n",
       "    </tr>\n",
       "    <tr>\n",
       "      <th>1</th>\n",
       "      <td>-0.692625</td>\n",
       "      <td>-0.657026</td>\n",
       "      <td>theroad</td>\n",
       "      <td>0.777778</td>\n",
       "      <td>0.000000</td>\n",
       "      <td>9</td>\n",
       "    </tr>\n",
       "    <tr>\n",
       "      <th>2</th>\n",
       "      <td>-0.281291</td>\n",
       "      <td>0.037581</td>\n",
       "      <td>thecrazies</td>\n",
       "      <td>0.466667</td>\n",
       "      <td>0.100000</td>\n",
       "      <td>30</td>\n",
       "    </tr>\n",
       "    <tr>\n",
       "      <th>3</th>\n",
       "      <td>0.129480</td>\n",
       "      <td>0.085571</td>\n",
       "      <td>blade</td>\n",
       "      <td>0.347826</td>\n",
       "      <td>0.347826</td>\n",
       "      <td>23</td>\n",
       "    </tr>\n",
       "    <tr>\n",
       "      <th>4</th>\n",
       "      <td>-0.200070</td>\n",
       "      <td>-0.059440</td>\n",
       "      <td>domesticdisturbance</td>\n",
       "      <td>0.148148</td>\n",
       "      <td>0.666667</td>\n",
       "      <td>27</td>\n",
       "    </tr>\n",
       "  </tbody>\n",
       "</table>\n",
       "</div>"
      ],
      "text/plain": [
       "   Lifetime_gross  OpeningWeekend_gross                title  \\\n",
       "0       -0.692625             -0.657026              theroad   \n",
       "1       -0.692625             -0.657026              theroad   \n",
       "2       -0.281291              0.037581           thecrazies   \n",
       "3        0.129480              0.085571                blade   \n",
       "4       -0.200070             -0.059440  domesticdisturbance   \n",
       "\n",
       "   critics_positive_percentage  critics_negative_percentage  \\\n",
       "0                     0.787879                     0.030303   \n",
       "1                     0.777778                     0.000000   \n",
       "2                     0.466667                     0.100000   \n",
       "3                     0.347826                     0.347826   \n",
       "4                     0.148148                     0.666667   \n",
       "\n",
       "   critics_total_reviews  \n",
       "0                     33  \n",
       "1                      9  \n",
       "2                     30  \n",
       "3                     23  \n",
       "4                     27  "
      ]
     },
     "execution_count": 111,
     "metadata": {},
     "output_type": "execute_result"
    }
   ],
   "source": [
    "# print regression_df.shape\n",
    "# px2 = StandardScaler().fit_transform(regression_df[['Lifetime_gross','OpeningWeekend_gross']])\n",
    "\n",
    "# regression_norm_df = pd.DataFrame({'Lifetime_gross':px2[:,0],'OpeningWeekend_gross':px2[:,1]})\n",
    "# regression_norm_df['title'] = regression_df['title']\n",
    "# regression_norm_df['critics_positive_percentage'] = regression_df['critics_positive_percentage']\n",
    "# regression_norm_df['critics_negative_percentage'] = regression_df['critics_negative_percentage']\n",
    "# regression_norm_df['critics_total_reviews'] = regression_df['critics_total_reviews']\n",
    "# regression_norm_df.shape\n",
    "# regression_norm_df.head()"
   ]
  },
  {
   "cell_type": "markdown",
   "metadata": {},
   "source": [
    "## Model 5:\n",
    "Linear regression model on normalized data with 4 featres:\n",
    "\n",
    "Features:\n",
    "1. OpeningWeekend_gross\n",
    "2. critics_positive\n",
    "3. critics_neutral\n",
    "4. critics_negative\n",
    "\n",
    "Response:\n",
    "Lifetime_gross"
   ]
  },
  {
   "cell_type": "code",
   "execution_count": 178,
   "metadata": {
    "collapsed": false
   },
   "outputs": [
    {
     "data": {
      "text/html": [
       "<table class=\"simpletable\">\n",
       "<caption>OLS Regression Results</caption>\n",
       "<tr>\n",
       "  <th>Dep. Variable:</th>     <td>Lifetime_gross</td>  <th>  R-squared:         </th> <td>   0.702</td>\n",
       "</tr>\n",
       "<tr>\n",
       "  <th>Model:</th>                   <td>OLS</td>       <th>  Adj. R-squared:    </th> <td>   0.702</td>\n",
       "</tr>\n",
       "<tr>\n",
       "  <th>Method:</th>             <td>Least Squares</td>  <th>  F-statistic:       </th> <td>   1361.</td>\n",
       "</tr>\n",
       "<tr>\n",
       "  <th>Date:</th>             <td>Mon, 08 Feb 2016</td> <th>  Prob (F-statistic):</th>  <td>  0.00</td> \n",
       "</tr>\n",
       "<tr>\n",
       "  <th>Time:</th>                 <td>09:13:28</td>     <th>  Log-Likelihood:    </th> <td> -1879.7</td>\n",
       "</tr>\n",
       "<tr>\n",
       "  <th>No. Observations:</th>      <td>  2311</td>      <th>  AIC:               </th> <td>   3769.</td>\n",
       "</tr>\n",
       "<tr>\n",
       "  <th>Df Residuals:</th>          <td>  2306</td>      <th>  BIC:               </th> <td>   3798.</td>\n",
       "</tr>\n",
       "<tr>\n",
       "  <th>Df Model:</th>              <td>     4</td>      <th>                     </th>     <td> </td>   \n",
       "</tr>\n",
       "<tr>\n",
       "  <th>Covariance Type:</th>      <td>nonrobust</td>    <th>                     </th>     <td> </td>   \n",
       "</tr>\n",
       "</table>\n",
       "<table class=\"simpletable\">\n",
       "<tr>\n",
       "               <td></td>                  <th>coef</th>     <th>std err</th>      <th>t</th>      <th>P>|t|</th> <th>[95.0% Conf. Int.]</th> \n",
       "</tr>\n",
       "<tr>\n",
       "  <th>Intercept</th>                   <td>   -0.0204</td> <td>    0.055</td> <td>   -0.374</td> <td> 0.708</td> <td>   -0.128     0.087</td>\n",
       "</tr>\n",
       "<tr>\n",
       "  <th>OpeningWeekend_gross</th>        <td>    0.8378</td> <td>    0.011</td> <td>   73.757</td> <td> 0.000</td> <td>    0.816     0.860</td>\n",
       "</tr>\n",
       "<tr>\n",
       "  <th>critics_positive_percentage</th> <td>   -0.0591</td> <td>    0.061</td> <td>   -0.975</td> <td> 0.330</td> <td>   -0.178     0.060</td>\n",
       "</tr>\n",
       "<tr>\n",
       "  <th>critics_negative_percentage</th> <td>   -0.0074</td> <td>    0.085</td> <td>   -0.086</td> <td> 0.931</td> <td>   -0.175     0.160</td>\n",
       "</tr>\n",
       "<tr>\n",
       "  <th>critics_total_reviews</th>       <td>    0.0019</td> <td>    0.001</td> <td>    1.555</td> <td> 0.120</td> <td>   -0.000     0.004</td>\n",
       "</tr>\n",
       "</table>\n",
       "<table class=\"simpletable\">\n",
       "<tr>\n",
       "  <th>Omnibus:</th>       <td>2309.423</td> <th>  Durbin-Watson:     </th>  <td>   1.842</td> \n",
       "</tr>\n",
       "<tr>\n",
       "  <th>Prob(Omnibus):</th>  <td> 0.000</td>  <th>  Jarque-Bera (JB):  </th> <td>175909.685</td>\n",
       "</tr>\n",
       "<tr>\n",
       "  <th>Skew:</th>           <td> 4.697</td>  <th>  Prob(JB):          </th>  <td>    0.00</td> \n",
       "</tr>\n",
       "<tr>\n",
       "  <th>Kurtosis:</th>       <td>44.697</td>  <th>  Cond. No.          </th>  <td>    280.</td> \n",
       "</tr>\n",
       "</table>"
      ],
      "text/plain": [
       "<class 'statsmodels.iolib.summary.Summary'>\n",
       "\"\"\"\n",
       "                            OLS Regression Results                            \n",
       "==============================================================================\n",
       "Dep. Variable:         Lifetime_gross   R-squared:                       0.702\n",
       "Model:                            OLS   Adj. R-squared:                  0.702\n",
       "Method:                 Least Squares   F-statistic:                     1361.\n",
       "Date:                Mon, 08 Feb 2016   Prob (F-statistic):               0.00\n",
       "Time:                        09:13:28   Log-Likelihood:                -1879.7\n",
       "No. Observations:                2311   AIC:                             3769.\n",
       "Df Residuals:                    2306   BIC:                             3798.\n",
       "Df Model:                           4                                         \n",
       "Covariance Type:            nonrobust                                         \n",
       "===============================================================================================\n",
       "                                  coef    std err          t      P>|t|      [95.0% Conf. Int.]\n",
       "-----------------------------------------------------------------------------------------------\n",
       "Intercept                      -0.0204      0.055     -0.374      0.708        -0.128     0.087\n",
       "OpeningWeekend_gross            0.8378      0.011     73.757      0.000         0.816     0.860\n",
       "critics_positive_percentage    -0.0591      0.061     -0.975      0.330        -0.178     0.060\n",
       "critics_negative_percentage    -0.0074      0.085     -0.086      0.931        -0.175     0.160\n",
       "critics_total_reviews           0.0019      0.001      1.555      0.120        -0.000     0.004\n",
       "==============================================================================\n",
       "Omnibus:                     2309.423   Durbin-Watson:                   1.842\n",
       "Prob(Omnibus):                  0.000   Jarque-Bera (JB):           175909.685\n",
       "Skew:                           4.697   Prob(JB):                         0.00\n",
       "Kurtosis:                      44.697   Cond. No.                         280.\n",
       "==============================================================================\n",
       "\n",
       "Warnings:\n",
       "[1] Standard Errors assume that the covariance matrix of the errors is correctly specified.\n",
       "\"\"\""
      ]
     },
     "execution_count": 178,
     "metadata": {},
     "output_type": "execute_result"
    }
   ],
   "source": [
    "lm2 = smf.ols('Lifetime_gross ~ OpeningWeekend_gross + critics_positive_percentage +  critics_negative_percentage + critics_total_reviews', data=regression_norm_df)\n",
    "\n",
    "fit5 = lm2.fit()\n",
    "fit5.summary()"
   ]
  },
  {
   "cell_type": "code",
   "execution_count": 182,
   "metadata": {
    "collapsed": false
   },
   "outputs": [
    {
     "data": {
      "text/html": [
       "<table class=\"simpletable\">\n",
       "<caption>OLS Regression Results</caption>\n",
       "<tr>\n",
       "  <th>Dep. Variable:</th>     <td>Lifetime_gross</td>  <th>  R-squared:         </th> <td>   0.290</td> \n",
       "</tr>\n",
       "<tr>\n",
       "  <th>Model:</th>                   <td>OLS</td>       <th>  Adj. R-squared:    </th> <td>   0.289</td> \n",
       "</tr>\n",
       "<tr>\n",
       "  <th>Method:</th>             <td>Least Squares</td>  <th>  F-statistic:       </th> <td>   942.2</td> \n",
       "</tr>\n",
       "<tr>\n",
       "  <th>Date:</th>             <td>Mon, 08 Feb 2016</td> <th>  Prob (F-statistic):</th> <td>7.58e-174</td>\n",
       "</tr>\n",
       "<tr>\n",
       "  <th>Time:</th>                 <td>11:54:45</td>     <th>  Log-Likelihood:    </th> <td> -44859.</td> \n",
       "</tr>\n",
       "<tr>\n",
       "  <th>No. Observations:</th>      <td>  2314</td>      <th>  AIC:               </th> <td>8.972e+04</td>\n",
       "</tr>\n",
       "<tr>\n",
       "  <th>Df Residuals:</th>          <td>  2312</td>      <th>  BIC:               </th> <td>8.973e+04</td>\n",
       "</tr>\n",
       "<tr>\n",
       "  <th>Df Model:</th>              <td>     1</td>      <th>                     </th>     <td> </td>    \n",
       "</tr>\n",
       "<tr>\n",
       "  <th>Covariance Type:</th>      <td>nonrobust</td>    <th>                     </th>     <td> </td>    \n",
       "</tr>\n",
       "</table>\n",
       "<table class=\"simpletable\">\n",
       "<tr>\n",
       "             <td></td>                <th>coef</th>     <th>std err</th>      <th>t</th>      <th>P>|t|</th> <th>[95.0% Conf. Int.]</th> \n",
       "</tr>\n",
       "<tr>\n",
       "  <th>Intercept</th>               <td> 6.187e+06</td> <td>  2.2e+06</td> <td>    2.807</td> <td> 0.005</td> <td> 1.86e+06  1.05e+07</td>\n",
       "</tr>\n",
       "<tr>\n",
       "  <th>openingWeekend_theatres</th> <td>  2.95e+04</td> <td>  961.049</td> <td>   30.695</td> <td> 0.000</td> <td> 2.76e+04  3.14e+04</td>\n",
       "</tr>\n",
       "</table>\n",
       "<table class=\"simpletable\">\n",
       "<tr>\n",
       "  <th>Omnibus:</th>       <td>1500.017</td> <th>  Durbin-Watson:     </th> <td>   1.897</td> \n",
       "</tr>\n",
       "<tr>\n",
       "  <th>Prob(Omnibus):</th>  <td> 0.000</td>  <th>  Jarque-Bera (JB):  </th> <td>22682.267</td>\n",
       "</tr>\n",
       "<tr>\n",
       "  <th>Skew:</th>           <td> 2.849</td>  <th>  Prob(JB):          </th> <td>    0.00</td> \n",
       "</tr>\n",
       "<tr>\n",
       "  <th>Kurtosis:</th>       <td>17.240</td>  <th>  Cond. No.          </th> <td>3.82e+03</td> \n",
       "</tr>\n",
       "</table>"
      ],
      "text/plain": [
       "<class 'statsmodels.iolib.summary.Summary'>\n",
       "\"\"\"\n",
       "                            OLS Regression Results                            \n",
       "==============================================================================\n",
       "Dep. Variable:         Lifetime_gross   R-squared:                       0.290\n",
       "Model:                            OLS   Adj. R-squared:                  0.289\n",
       "Method:                 Least Squares   F-statistic:                     942.2\n",
       "Date:                Mon, 08 Feb 2016   Prob (F-statistic):          7.58e-174\n",
       "Time:                        11:54:45   Log-Likelihood:                -44859.\n",
       "No. Observations:                2314   AIC:                         8.972e+04\n",
       "Df Residuals:                    2312   BIC:                         8.973e+04\n",
       "Df Model:                           1                                         \n",
       "Covariance Type:            nonrobust                                         \n",
       "===========================================================================================\n",
       "                              coef    std err          t      P>|t|      [95.0% Conf. Int.]\n",
       "-------------------------------------------------------------------------------------------\n",
       "Intercept                6.187e+06    2.2e+06      2.807      0.005      1.86e+06  1.05e+07\n",
       "openingWeekend_theatres   2.95e+04    961.049     30.695      0.000      2.76e+04  3.14e+04\n",
       "==============================================================================\n",
       "Omnibus:                     1500.017   Durbin-Watson:                   1.897\n",
       "Prob(Omnibus):                  0.000   Jarque-Bera (JB):            22682.267\n",
       "Skew:                           2.849   Prob(JB):                         0.00\n",
       "Kurtosis:                      17.240   Cond. No.                     3.82e+03\n",
       "==============================================================================\n",
       "\n",
       "Warnings:\n",
       "[1] Standard Errors assume that the covariance matrix of the errors is correctly specified.\n",
       "[2] The condition number is large, 3.82e+03. This might indicate that there are\n",
       "strong multicollinearity or other numerical problems.\n",
       "\"\"\""
      ]
     },
     "execution_count": 182,
     "metadata": {},
     "output_type": "execute_result"
    }
   ],
   "source": [
    "lm = smf.ols('Lifetime_gross ~ openingWeekend_theatres', data=regression_df)\n",
    "fit6 = lm.fit()\n",
    "fit6.summary()"
   ]
  },
  {
   "cell_type": "code",
   "execution_count": 32,
   "metadata": {
    "collapsed": false
   },
   "outputs": [
    {
     "data": {
      "text/html": [
       "<table class=\"simpletable\">\n",
       "<caption>OLS Regression Results</caption>\n",
       "<tr>\n",
       "  <th>Dep. Variable:</th>     <td>Lifetime_gross</td>  <th>  R-squared:         </th> <td>   0.724</td>\n",
       "</tr>\n",
       "<tr>\n",
       "  <th>Model:</th>                   <td>OLS</td>       <th>  Adj. R-squared:    </th> <td>   0.724</td>\n",
       "</tr>\n",
       "<tr>\n",
       "  <th>Method:</th>             <td>Least Squares</td>  <th>  F-statistic:       </th> <td>   1515.</td>\n",
       "</tr>\n",
       "<tr>\n",
       "  <th>Date:</th>             <td>Sun, 07 Feb 2016</td> <th>  Prob (F-statistic):</th>  <td>  0.00</td> \n",
       "</tr>\n",
       "<tr>\n",
       "  <th>Time:</th>                 <td>16:08:20</td>     <th>  Log-Likelihood:    </th> <td> -1794.0</td>\n",
       "</tr>\n",
       "<tr>\n",
       "  <th>No. Observations:</th>      <td>  2314</td>      <th>  AIC:               </th> <td>   3598.</td>\n",
       "</tr>\n",
       "<tr>\n",
       "  <th>Df Residuals:</th>          <td>  2309</td>      <th>  BIC:               </th> <td>   3627.</td>\n",
       "</tr>\n",
       "<tr>\n",
       "  <th>Df Model:</th>              <td>     4</td>      <th>                     </th>     <td> </td>   \n",
       "</tr>\n",
       "<tr>\n",
       "  <th>Covariance Type:</th>      <td>nonrobust</td>    <th>                     </th>     <td> </td>   \n",
       "</tr>\n",
       "</table>\n",
       "<table class=\"simpletable\">\n",
       "<tr>\n",
       "               <td></td>                  <th>coef</th>     <th>std err</th>      <th>t</th>      <th>P>|t|</th> <th>[95.0% Conf. Int.]</th> \n",
       "</tr>\n",
       "<tr>\n",
       "  <th>Intercept</th>                   <td>   -0.1097</td> <td>    0.055</td> <td>   -1.996</td> <td> 0.046</td> <td>   -0.217    -0.002</td>\n",
       "</tr>\n",
       "<tr>\n",
       "  <th>OpeningWeekend_gross</th>        <td>    0.8578</td> <td>    0.012</td> <td>   72.921</td> <td> 0.000</td> <td>    0.835     0.881</td>\n",
       "</tr>\n",
       "<tr>\n",
       "  <th>critics_positive_percentage</th> <td>    0.4907</td> <td>    0.053</td> <td>    9.235</td> <td> 0.000</td> <td>    0.386     0.595</td>\n",
       "</tr>\n",
       "<tr>\n",
       "  <th>critics_neutral_percentage</th>  <td>   -0.0515</td> <td>    0.082</td> <td>   -0.625</td> <td> 0.532</td> <td>   -0.213     0.110</td>\n",
       "</tr>\n",
       "<tr>\n",
       "  <th>critics_total_reviews</th>       <td>   -0.0042</td> <td>    0.001</td> <td>   -3.388</td> <td> 0.001</td> <td>   -0.007    -0.002</td>\n",
       "</tr>\n",
       "</table>\n",
       "<table class=\"simpletable\">\n",
       "<tr>\n",
       "  <th>Omnibus:</th>       <td>2329.447</td> <th>  Durbin-Watson:     </th>  <td>   1.838</td> \n",
       "</tr>\n",
       "<tr>\n",
       "  <th>Prob(Omnibus):</th>  <td> 0.000</td>  <th>  Jarque-Bera (JB):  </th> <td>199743.172</td>\n",
       "</tr>\n",
       "<tr>\n",
       "  <th>Skew:</th>           <td> 4.706</td>  <th>  Prob(JB):          </th>  <td>    0.00</td> \n",
       "</tr>\n",
       "<tr>\n",
       "  <th>Kurtosis:</th>       <td>47.532</td>  <th>  Cond. No.          </th>  <td>    274.</td> \n",
       "</tr>\n",
       "</table>"
      ],
      "text/plain": [
       "<class 'statsmodels.iolib.summary.Summary'>\n",
       "\"\"\"\n",
       "                            OLS Regression Results                            \n",
       "==============================================================================\n",
       "Dep. Variable:         Lifetime_gross   R-squared:                       0.724\n",
       "Model:                            OLS   Adj. R-squared:                  0.724\n",
       "Method:                 Least Squares   F-statistic:                     1515.\n",
       "Date:                Sun, 07 Feb 2016   Prob (F-statistic):               0.00\n",
       "Time:                        16:08:20   Log-Likelihood:                -1794.0\n",
       "No. Observations:                2314   AIC:                             3598.\n",
       "Df Residuals:                    2309   BIC:                             3627.\n",
       "Df Model:                           4                                         \n",
       "Covariance Type:            nonrobust                                         \n",
       "===============================================================================================\n",
       "                                  coef    std err          t      P>|t|      [95.0% Conf. Int.]\n",
       "-----------------------------------------------------------------------------------------------\n",
       "Intercept                      -0.1097      0.055     -1.996      0.046        -0.217    -0.002\n",
       "OpeningWeekend_gross            0.8578      0.012     72.921      0.000         0.835     0.881\n",
       "critics_positive_percentage     0.4907      0.053      9.235      0.000         0.386     0.595\n",
       "critics_neutral_percentage     -0.0515      0.082     -0.625      0.532        -0.213     0.110\n",
       "critics_total_reviews          -0.0042      0.001     -3.388      0.001        -0.007    -0.002\n",
       "==============================================================================\n",
       "Omnibus:                     2329.447   Durbin-Watson:                   1.838\n",
       "Prob(Omnibus):                  0.000   Jarque-Bera (JB):           199743.172\n",
       "Skew:                           4.706   Prob(JB):                         0.00\n",
       "Kurtosis:                      47.532   Cond. No.                         274.\n",
       "==============================================================================\n",
       "\n",
       "Warnings:\n",
       "[1] Standard Errors assume that the covariance matrix of the errors is correctly specified.\n",
       "\"\"\""
      ]
     },
     "execution_count": 32,
     "metadata": {},
     "output_type": "execute_result"
    }
   ],
   "source": [
    "regression['critics_neutral_percentage'] = 1-(regression['critics_positive_percentage']+regression['critics_negative_percentage'])\n",
    "\n",
    "lm1 = smf.ols('Lifetime_gross ~ OpeningWeekend_gross + critics_positive_percentage + critics_neutral_percentage+critics_total_reviews ', data=regression)\n",
    "fit4 = lm1.fit()\n",
    "fit4.summary()"
   ]
  },
  {
   "cell_type": "code",
   "execution_count": 184,
   "metadata": {
    "collapsed": false
   },
   "outputs": [
    {
     "data": {
      "image/png": "[encoded data removed]",
      "text/plain": [
       "<matplotlib.figure.Figure at 0x113329e50>"
      ]
     },
     "metadata": {},
     "output_type": "display_data"
    }
   ],
   "source": [
    "# Plot of the fit model with opening weekend theatres as predictor and lifetime gross as response\n",
    "# print Xypreds = fit9.predict()\n",
    "\n",
    "fig, ax = plt.subplots()\n",
    "\n",
    "ax.scatter(regression_df['openingWeekend_theatres'], regression_df['Lifetime_gross'])\n",
    "ax.plot(regression_df['openingWeekend_theatres'],fit6.predict(exog=dict(openingWeekend_theatres = regression_df['openingWeekend_theatres'])), color='green')\n",
    "\n",
    "plt.show()"
   ]
  },
  {
   "cell_type": "markdown",
   "metadata": {},
   "source": [
    "Canculate the train test set scores, cross validation score and Ridge regression score."
   ]
  },
  {
   "cell_type": "code",
   "execution_count": 181,
   "metadata": {
    "collapsed": false
   },
   "outputs": [
    {
     "name": "stdout",
     "output_type": "stream",
     "text": [
      "(1619, 5) (1619,) (695, 5) (695,)\n",
      "Score =  0.825600057581\n",
      "0.823125679449\n"
     ]
    },
    {
     "data": {
      "text/plain": [
       "0.82606305036823191"
      ]
     },
     "execution_count": 181,
     "metadata": {},
     "output_type": "execute_result"
    }
   ],
   "source": [
    "# Train-test regression score, crossvalidation score and ridge regression score\n",
    "# for the final model i.e., Opening weekend gross and opening weekend theatres as predictors\n",
    "lr = LinearRegression()\n",
    "X = regression_df[['critics_positive_percentage', 'critics_negative_percentage', 'critics_total_reviews', 'log_OpeningWeekend_gross', 'openingWeekend_theatres']]\n",
    "y = regression_df['log_Lifetime_gross']\n",
    "\n",
    "\n",
    "lr.fit(X, y)\n",
    "lr.score(X,y)\n",
    "\n",
    "# Split the data into training and test sets\n",
    "X_train, X_test, y_train, y_test = train_test_split(X, y, test_size=0.3)\n",
    "print X_train.shape, y_train.shape, X_test.shape, y_test.shape\n",
    "# Fit the model against the training data\n",
    "lr.fit(X_train, y_train)\n",
    "# Evaluate the model against the testing data\n",
    "print 'Score = ', lr.score(X_test, y_test)\n",
    "\n",
    "predictions_score = cross_val_score(lr, X_train, y_train, cv=10)\n",
    "score = np.average(predictions_score)\n",
    "print score\n",
    "\n",
    "\n",
    "rcv = RidgeCV(cv=10)\n",
    "rcv.fit(X, y)\n",
    "rcv.score(X_test, y_test)"
   ]
  },
  {
   "cell_type": "code",
   "execution_count": null,
   "metadata": {
    "collapsed": true
   },
   "outputs": [],
   "source": []
  },
  {
   "cell_type": "code",
   "execution_count": null,
   "metadata": {
    "collapsed": true
   },
   "outputs": [],
   "source": []
  },
  {
   "cell_type": "code",
   "execution_count": null,
   "metadata": {
    "collapsed": true
   },
   "outputs": [],
   "source": []
  }
 ],
 "metadata": {
  "kernelspec": {
   "display_name": "Python 2",
   "language": "python",
   "name": "python2"
  },
  "language_info": {
   "codemirror_mode": {
    "name": "ipython",
    "version": 2
   },
   "file_extension": ".py",
   "mimetype": "text/x-python",
   "name": "python",
   "nbconvert_exporter": "python",
   "pygments_lexer": "ipython2",
   "version": "2.7.10"
  }
 },
 "nbformat": 4,
 "nbformat_minor": 0
}
